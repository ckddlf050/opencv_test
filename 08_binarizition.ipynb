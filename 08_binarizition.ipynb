{
 "cells": [
  {
   "cell_type": "markdown",
   "metadata": {},
   "source": [
    "## 08 이진화\n",
    "- 임계값을 기준으로 색상을 흰색과 검은색으로 나누는 것"
   ]
  },
  {
   "cell_type": "markdown",
   "metadata": {},
   "source": []
  },
  {
   "cell_type": "code",
   "execution_count": 1,
   "metadata": {},
   "outputs": [],
   "source": [
    "import cv2\n",
    "import numpy as np\n",
    "\n",
    "BOOK = \"images/book.jpg\""
   ]
  },
  {
   "cell_type": "markdown",
   "metadata": {},
   "source": [
    "### 8-1 기본 이진화\n",
    "\n",
    "- 'ret,binary = cv2.threshold()'"
   ]
  },
  {
   "cell_type": "code",
   "execution_count": 11,
   "metadata": {},
   "outputs": [],
   "source": [
    "img = cv2.imread(BOOK,cv2.IMREAD_GRAYSCALE)\n",
    "\n",
    "ret,binaray = cv2.threshold(img,127,255,cv2.THRESH_BINARY)#THRESH_BINAR 임계값보다 크면 검은색 작으면 흰색\n",
    "\n",
    "cv2.imshow(\"img\",img)\n",
    "cv2.imshow(\"binary\",binaray)\n",
    "cv2.waitKey(0)\n",
    "cv2.destroyAllWindows()"
   ]
  },
  {
   "cell_type": "markdown",
   "metadata": {},
   "source": [
    "## 실습 2-2 Threshold"
   ]
  },
  {
   "cell_type": "code",
   "execution_count": 9,
   "metadata": {},
   "outputs": [],
   "source": []
  },
  {
   "cell_type": "code",
   "execution_count": 5,
   "metadata": {},
   "outputs": [],
   "source": [
    "img = cv2.imread(BOOK,cv2.IMREAD_GRAYSCALE)\n",
    "name = \"Trakbar\"\n",
    "cv2.namedWindow(name)\n",
    "cv2.createTrackbar(\"threshold\",name,127,255,lambda x: x)\n",
    "\n",
    "\n",
    "while True:\n",
    "    thresh =cv2.getTrackbarPos(\"R\",name)\n",
    "    ret,binary = cv2.threshold(img,thresh,255,cv2.THRESH_BINARY)\n",
    "\n",
    "    if not ret:\n",
    "        break\n",
    "    cv2.imshow(name,binary)\n",
    "\n",
    "    if cv2.waitKey(1) == ord(\"q\"):\n",
    "        break\n",
    "    \n",
    "cv2.destroyAllWindows()\n",
    "\n"
   ]
  },
  {
   "cell_type": "code",
   "execution_count": 12,
   "metadata": {},
   "outputs": [],
   "source": [
    "img = np.zeros((460,640,3),dtype=np.uint8)\n",
    "name = \"image\"\n",
    "\n",
    "cv2.namedWindow(name)\n",
    "\n",
    "cv2.createTrackbar(\"R\",name,0,255,lambda x: x)\n",
    "cv2.createTrackbar(\"G\",name,0,255,lambda x: x)\n",
    "cv2.createTrackbar(\"B\",name,0,255,lambda x: x)\n",
    "cv2.createTrackbar(\"ON \\n OFF\",name,1,1,lambda x: x)\n",
    "\n",
    "while True:\n",
    "    ONOF = cv2.getTrackbarPos(\"ON \\n OFF\",name)\n",
    "    RED =cv2.getTrackbarPos(\"R\",name)\n",
    "    GREEN =cv2.getTrackbarPos(\"G\",name)\n",
    "    BLUE =cv2.getTrackbarPos(\"B\",name)\n",
    "        \n",
    "    if ONOF == 1:\n",
    "        img[:] = (BLUE,GREEN,RED)\n",
    "    else:\n",
    "        img[:] = 0\n",
    "    \n",
    "    cv2.imshow(name,img)\n",
    "\n",
    "    if cv2.waitKey(1) == ord(\"q\"):\n",
    "        break\n",
    "    \n",
    "cv2.destroyAllWindows()"
   ]
  },
  {
   "cell_type": "markdown",
   "metadata": {},
   "source": [
    "### 8-2 적응형 이진화\n",
    "- 블록마다 다른 임계값을 적용\n"
   ]
  },
  {
   "cell_type": "code",
   "execution_count": 4,
   "metadata": {},
   "outputs": [],
   "source": [
    "img = cv2.imread(BOOK,cv2.IMREAD_GRAYSCALE)\n",
    "name = \"Adaptive\"\n",
    "cv2.namedWindow(name)\n",
    "\n",
    "cv2.createTrackbar(\"block_size\",name,25,100,lambda x:x)\n",
    "cv2.createTrackbar(\"C\",name,1,10,lambda x:x)\n",
    "\n",
    "while True:\n",
    "    block_size = cv2.getTrackbarPos(\"block_size\",name)\n",
    "    C = cv2.getTrackbarPos(\"C\",name)\n",
    "\n",
    "    if block_size <= 1:\n",
    "        block_size = 3\n",
    "\n",
    "    if block_size % 2 ==0:  #짝수일경우 1을더해서 홀수를 만들어줌\n",
    "        block_size += 1\n",
    "    \n",
    "    binary =cv2.adaptiveThreshold(img,255,cv2.ADAPTIVE_THRESH_MEAN_C,cv2.THRESH_BINARY,block_size,C)\n",
    "    cv2.imshow(name,binary)\n",
    "    if cv2.waitKey(1) == ord(\"q\"):\n",
    "        break\n",
    "\n",
    "cv2.destroyAllWindows()"
   ]
  },
  {
   "cell_type": "code",
   "execution_count": 2,
   "metadata": {},
   "outputs": [],
   "source": [
    "img = cv2.imread(BOOK, cv2.IMREAD_GRAYSCALE)\n",
    "name = 'Adaptive'\n",
    "cv2.namedWindow(name)\n",
    "#트랙바 이용해서 변경할값: Block,C값 -> 빛의 상태가 균일하지 않아 보정해주려고 임계값에서 빼주는값 : C값\n",
    "#C값이 커지면 임계값이 작이지니까 흰색값이 많아짐\n",
    "cv2.createTrackbar('block_size',name,25,100,lambda x:x) #25:block사이즈 기본값\n",
    "cv2.createTrackbar('c',name,1,10,lambda x:x)\n",
    "while True:\n",
    "    block_size = cv2.getTrackbarPos('block_size',name) #block_size는 1보다 큰 홀수만 가능하므로 예외처리!\n",
    "    C = cv2.getTrackbarPos('c',name) # 일반적으로 양수를 사용\n",
    "    if block_size <= 1:\n",
    "        block_size = 3\n",
    "    if block_size % 2 == 0:\n",
    "        block_size += 1\n",
    "    binary = cv2.adaptiveThreshold(img, 255, cv2.ADAPTIVE_THRESH_MEAN_C, cv2.THRESH_BINARY,block_size,C)\n",
    "    #임계값 적용 방식 : cv2.THRESH_BINARY <- 크면 흰색 , 작으면 검은색\n",
    "    cv2.imshow(name, binary)\n",
    "    if cv2.waitKey(1) != -1:\n",
    "        break\n",
    "cv2.destroyAllWindows()"
   ]
  }
 ],
 "metadata": {
  "kernelspec": {
   "display_name": "my_cv",
   "language": "python",
   "name": "python3"
  },
  "language_info": {
   "codemirror_mode": {
    "name": "ipython",
    "version": 3
   },
   "file_extension": ".py",
   "mimetype": "text/x-python",
   "name": "python",
   "nbconvert_exporter": "python",
   "pygments_lexer": "ipython3",
   "version": "3.13.1"
  }
 },
 "nbformat": 4,
 "nbformat_minor": 2
}
