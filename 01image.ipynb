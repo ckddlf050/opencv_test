{
 "cells": [
  {
   "cell_type": "markdown",
   "metadata": {},
   "source": [
    "## 01. 이미지 입출력"
   ]
  },
  {
   "cell_type": "markdown",
   "metadata": {},
   "source": [
    "### 1.1 이미지 입출력"
   ]
  },
  {
   "cell_type": "code",
   "execution_count": 2,
   "metadata": {},
   "outputs": [],
   "source": [
    "import cv2\n",
    "CAT_PATH = \"images/cat.jpg\"\n",
    "CAT_PNG = \"images/cat_PNG.png\""
   ]
  },
  {
   "cell_type": "code",
   "execution_count": 8,
   "metadata": {},
   "outputs": [
    {
     "name": "stdout",
     "output_type": "stream",
     "text": [
      "-1\n"
     ]
    }
   ],
   "source": [
    "img =cv2.imread(CAT_PATH)\n",
    "cv2.imshow(\"images\",img)\n",
    "key=cv2.waitKey(5000) #무한대기, 키 업력x -1을 반환\n",
    "print(key)\n",
    "cv2.destroyAllWindows()"
   ]
  },
  {
   "cell_type": "markdown",
   "metadata": {},
   "source": [
    "### 1-2 이미지 불러오기 옵션\n",
    "- 'cv2.IMREAD_COLOR': 이미지를 컬러로,기본옵션,투명배경 무시\n",
    "- 'cv2,IMREAD_GRAYSCALE' :이미지를 흑백으로\n",
    "- 'cv2.IMREAD_UNCHANGE':"
   ]
  },
  {
   "cell_type": "code",
   "execution_count": 6,
   "metadata": {},
   "outputs": [],
   "source": [
    "img_default = cv2.imread(CAT_PATH,cv2.IMREAD_COLOR)\n",
    "img_gray = cv2.imread(CAT_PATH,cv2.IMREAD_GRAYSCALE)\n",
    "img_unchanged = cv2.imread(CAT_PATH,cv2.IMREAD_UNCHANGED)\n",
    "\n",
    "cv2.imshow(\"img_color(default)\",img_default)\n",
    "cv2.imshow(\"img_gray\",img_gray)\n",
    "cv2.imshow(\"img_unchanged\",img_unchanged)\n",
    "\n",
    "key = cv2.waitKey(0)\n",
    "cv2.destroyAllWindows()"
   ]
  },
  {
   "cell_type": "markdown",
   "metadata": {},
   "source": [
    "### 1-3 이미지Shape"
   ]
  },
  {
   "cell_type": "code",
   "execution_count": 5,
   "metadata": {},
   "outputs": [
    {
     "data": {
      "text/plain": [
       "(960, 1280)"
      ]
     },
     "execution_count": 5,
     "metadata": {},
     "output_type": "execute_result"
    }
   ],
   "source": [
    "img_default = cv2.imread(CAT_PNG,cv2.IMREAD_COLOR)\n",
    "img_gray = cv2.imread(CAT_PNG,cv2.IMREAD_GRAYSCALE)\n",
    "img_unchanged = cv2.imread(CAT_PNG,cv2.IMREAD_UNCHANGED)\n",
    "#RGB + Alpha 까지 4개의 채널을 불러옴\n",
    "\n",
    "# height, weight,channel = img_unchanged.shape\n",
    "# print(height,weight,channel)\n",
    "img_gray.shape\n",
    "\n"
   ]
  },
  {
   "cell_type": "code",
   "execution_count": null,
   "metadata": {},
   "outputs": [],
   "source": [
    "img = cv2.imread(CAT_PATH)\n",
    "cv2.imshow(\"img\",img)\n",
    "key = cv2.waitKey(0)\n",
    "if key == ord(\"q\"):\n",
    "    cv2.destroyWindow()"
   ]
  },
  {
   "cell_type": "code",
   "execution_count": null,
   "metadata": {},
   "outputs": [],
   "source": [
    "ord(\"q\")"
   ]
  },
  {
   "cell_type": "markdown",
   "metadata": {},
   "source": [
    "### 1-4 이미지 쓰기\n",
    "\n",
    "- 불러온 이미지를 파일로 생성"
   ]
  },
  {
   "cell_type": "code",
   "execution_count": 4,
   "metadata": {},
   "outputs": [
    {
     "data": {
      "text/plain": [
       "True"
      ]
     },
     "execution_count": 4,
     "metadata": {},
     "output_type": "execute_result"
    }
   ],
   "source": [
    "img = cv2.imread(CAT_PATH,cv2,IM)\n",
    "cv2.imwrite(\"output/new_cat.jpg\",img)\n",
    "\n"
   ]
  },
  {
   "cell_type": "code",
   "execution_count": 8,
   "metadata": {},
   "outputs": [
    {
     "data": {
      "text/plain": [
       "True"
      ]
     },
     "execution_count": 8,
     "metadata": {},
     "output_type": "execute_result"
    }
   ],
   "source": [
    "img = cv2.imread(CAT_PATH,cv2.IMREAD_GRAYSCALE)\n",
    "cv2.imwrite(\"output/new_catP.jpg\",img)"
   ]
  },
  {
   "cell_type": "code",
   "execution_count": null,
   "metadata": {},
   "outputs": [],
   "source": []
  }
 ],
 "metadata": {
  "kernelspec": {
   "display_name": "my_cv",
   "language": "python",
   "name": "python3"
  },
  "language_info": {
   "codemirror_mode": {
    "name": "ipython",
    "version": 3
   },
   "file_extension": ".py",
   "mimetype": "text/x-python",
   "name": "python",
   "nbconvert_exporter": "python",
   "pygments_lexer": "ipython3",
   "version": "3.13.1"
  }
 },
 "nbformat": 4,
 "nbformat_minor": 2
}
