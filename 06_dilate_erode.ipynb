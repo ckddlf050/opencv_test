{
 "cells": [
  {
   "cell_type": "markdown",
   "metadata": {},
   "source": [
    "### 06 팽창과 침식\n"
   ]
  },
  {
   "cell_type": "code",
   "execution_count": 2,
   "metadata": {},
   "outputs": [],
   "source": [
    "import cv2\n",
    "import numpy as np\n",
    "\n",
    "DILATE = \"images/dilate.png\"\n",
    "ERODE = \"images/erode.png\""
   ]
  },
  {
   "cell_type": "markdown",
   "metadata": {},
   "source": [
    "### 6-1 팽창\n",
    "- 흰색 영역을 확장하여 검은 영역을 지움"
   ]
  },
  {
   "cell_type": "code",
   "execution_count": 8,
   "metadata": {},
   "outputs": [],
   "source": [
    "img = cv2.imread(DILATE)\n",
    "\n",
    "kernel = np.ones((3,3),dtype=np.uint8)\n",
    "dilate_1 = cv2.dilate(img,kernel,iterations =1)\n",
    "dilate_2 = cv2.dilate(img,kernel,iterations =2)\n",
    "dilate_3 = cv2.dilate(img,kernel,iterations =3)\n",
    "\n",
    "cv2.imshow(\"img\",img)\n",
    "cv2.imshow(\"d1\",dilate_1)\n",
    "cv2.imshow(\"d2\",dilate_2)\n",
    "cv2.imshow(\"d3\",dilate_3)\n",
    "\n",
    "cv2.waitKey(0)\n",
    "cv2.destroyAllWindows()\n"
   ]
  },
  {
   "cell_type": "code",
   "execution_count": 6,
   "metadata": {},
   "outputs": [],
   "source": [
    "img = cv2.imread(DILATE)\n",
    "kernel = np.ones((3,3),dtype=np.uint8)\n",
    "delate_1 = cv2.dilate(img, kernel, iterations=1) #kernel : 팽창을 진행할 단위\n",
    "delate_2 = cv2.dilate(img, kernel, iterations=2)\n",
    "delate_3 = cv2.dilate(img, kernel, iterations=3)\n",
    "cv2.imshow('img',img)\n",
    "cv2.imshow('delate_1',delate_1)\n",
    "cv2.imshow('delate_2',delate_2)\n",
    "cv2.imshow('delate_3',delate_3)\n",
    "cv2.waitKey(0)\n",
    "cv2.destroyAllWindows()"
   ]
  },
  {
   "cell_type": "markdown",
   "metadata": {},
   "source": [
    "### 6-2 침식\n",
    "- 흰색 영역의 외곽을 검은색으로 변경"
   ]
  },
  {
   "cell_type": "code",
   "execution_count": 9,
   "metadata": {},
   "outputs": [],
   "source": [
    "img = cv2.imread(ERODE)\n",
    "\n",
    "kernel = np.ones((3,3),dtype=np.uint8)\n",
    "\n",
    "erode_1 = cv2.erode(img, kernel, iterations=1) #kernel : 팽창을 진행할 단위\n",
    "erode_2 = cv2.erode(img, kernel, iterations=2)\n",
    "erode_3 = cv2.erode(img, kernel, iterations=3)\n",
    "\n",
    "cv2.imshow('img',img)\n",
    "cv2.imshow('e_1',erode_1)\n",
    "cv2.imshow('e_2',erode_2)\n",
    "cv2.imshow('e_3',erode_3)\n",
    "cv2.waitKey(0)\n",
    "cv2.destroyAllWindows()\n",
    "#"
   ]
  },
  {
   "cell_type": "markdown",
   "metadata": {},
   "source": [
    "### 6-3 열림\n",
    "- 침식 후 팽창"
   ]
  },
  {
   "cell_type": "code",
   "execution_count": 11,
   "metadata": {},
   "outputs": [],
   "source": [
    "img = cv2.imread(ERODE)\n",
    "\n",
    "kernel = np.ones((3,3),dtype=np.uint8)\n",
    "erode_3 = cv2.erode(img, kernel, iterations=3)\n",
    "delate_3 = cv2.dilate(erode_3, kernel, iterations=3)\n",
    "\n",
    "cv2.imshow('img',img)\n",
    "cv2.imshow(\"open\",dilate_3)\n",
    "cv2.waitKey(0)\n",
    "cv2.destroyAllWindows()"
   ]
  },
  {
   "cell_type": "markdown",
   "metadata": {},
   "source": [
    "### 6-4 닫힘\n",
    "- 팽창후 침식"
   ]
  },
  {
   "cell_type": "code",
   "execution_count": 13,
   "metadata": {},
   "outputs": [],
   "source": [
    "img = cv2.imread(DILATE)\n",
    "\n",
    "kernel = np.ones((3,3),dtype=np.uint8)\n",
    "delate_3 = cv2.dilate(img, kernel, iterations=3)\n",
    "erode_3 = cv2.erode(delate_3, kernel, iterations=3)\n",
    "\n",
    "cv2.imshow('img',img)\n",
    "cv2.imshow(\"open\",erode_3)\n",
    "cv2.waitKey(0)\n",
    "cv2.destroyAllWindows()"
   ]
  }
 ],
 "metadata": {
  "kernelspec": {
   "display_name": "my_cv",
   "language": "python",
   "name": "python3"
  },
  "language_info": {
   "codemirror_mode": {
    "name": "ipython",
    "version": 3
   },
   "file_extension": ".py",
   "mimetype": "text/x-python",
   "name": "python",
   "nbconvert_exporter": "python",
   "pygments_lexer": "ipython3",
   "version": "3.13.1"
  }
 },
 "nbformat": 4,
 "nbformat_minor": 2
}
