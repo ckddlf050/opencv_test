{
 "cells": [
  {
   "cell_type": "markdown",
   "metadata": {},
   "source": [
    "## 12. 윤곽선 검출\n",
    "- 경계선을 연결한 선\n",
    "- 흑백 이미지 > 이진화 > 윤곽선 찾기(findcontours) > 윤곽선 그리기(drawcontours)"
   ]
  },
  {
   "cell_type": "code",
   "execution_count": 1,
   "metadata": {},
   "outputs": [],
   "source": [
    "import cv2\n",
    "\n",
    "KARINA = \"images/img1.jpg\""
   ]
  },
  {
   "cell_type": "code",
   "execution_count": 30,
   "metadata": {},
   "outputs": [],
   "source": [
    "img = cv2.imread(KARINA)\n",
    "\n",
    "copied_img = img.copy()\n",
    "gray = cv2.cvtColor(copied_img, cv2.COLOR_BGR2GRAY)\n",
    "#이진화\n",
    "ret, otsu = cv2.threshold(gray, -1, 255, cv2.THRESH_BINARY | cv2.THRESH_OTSU)\n",
    "# 윤곽선 찾기\n",
    "contours, hierachy = cv2.findContours(otsu, cv2.RETR_LIST, cv2.CHAIN_APPROX_NONE)\n",
    "# 윤곽선 그리기\n",
    "cv2.drawContours(copied_img, contours, -1, (0, 200, 0), 2)\n",
    "\n",
    "cv2.imshow(\"contour\", copied_img)\n",
    "cv2.imshow(\"img\",img)\n",
    "cv2.waitKey(0)\n",
    "cv2.destroyAllWindows()"
   ]
  },
  {
   "cell_type": "markdown",
   "metadata": {},
   "source": []
  },
  {
   "cell_type": "code",
   "execution_count": 27,
   "metadata": {},
   "outputs": [],
   "source": [
    "img = cv2.imread(KARINA)\n",
    "\n",
    "copied_img = img.copy()\n",
    "copied_img2 = img.copy()\n",
    "\n",
    "gray = cv2.cvtColor(copied_img, cv2.COLOR_BGR2GRAY)\n",
    "\n",
    "#이진화\n",
    "ret, binary= cv2.threshold(gray, -1, 255, cv2.THRESH_BINARY | cv2.THRESH_OTSU)\n",
    "# 윤곽선 찾기\n",
    "contours, hierachy = cv2.findContours(binary, cv2.RETR_LIST, cv2.CHAIN_APPROX_NONE)\n",
    "contours2, hierachy2 = cv2.findContours(binary, cv2.RETR_EXTERNAL, cv2.CHAIN_APPROX_NONE)\n",
    "# 윤곽선 그리기\n",
    "cv2.drawContours(copied_img, contours, -1, (0, 200, 0), 2)\n",
    "cv2.drawContours(copied_img2, contours2, -1, (0, 200, 0), 2)\n",
    "\n",
    "cv2.imshow(\"contour\", copied_img)\n",
    "cv2.imshow(\"contour2\", copied_img2)\n",
    "# cv2.imshow(\"img\",img)\n",
    "cv2.waitKey(0)\n",
    "cv2.destroyAllWindows()"
   ]
  },
  {
   "cell_type": "markdown",
   "metadata": {},
   "source": [
    "### 12-2 BoundingRect\n",
    "- 윤곽선을 경계계"
   ]
  },
  {
   "cell_type": "code",
   "execution_count": 32,
   "metadata": {},
   "outputs": [],
   "source": [
    "img = cv2.imread(KARINA)\n",
    "\n",
    "copied_img = img.copy()\n",
    "gray = cv2.cvtColor(copied_img, cv2.COLOR_BGR2GRAY)\n",
    "\n",
    "ret, otsu = cv2.threshold(gray, -1, 255, cv2.THRESH_BINARY | cv2.THRESH_OTSU)\n",
    "\n",
    "contours, hierachy = cv2.findContours(otsu, cv2.RETR_LIST, cv2.CHAIN_APPROX_NONE)\n",
    "\n",
    "for contour in contours:\n",
    "    x,y,widith,height = cv2.boundingRect(contour)\n",
    "    cv2.rectangle(copied_img,(x,y),(x+widith,y+height),(0,200,0),2)\n",
    "\n",
    "# cv2.drawContours(copied_img, contours, -1, (0, 200, 0), 2)\n",
    "\n",
    "cv2.imshow(\"contour\", copied_img)\n",
    "cv2.waitKey(0)\n",
    "cv2.destroyAllWindows()"
   ]
  },
  {
   "cell_type": "code",
   "execution_count": 44,
   "metadata": {},
   "outputs": [],
   "source": [
    "img = cv2.imread(\"images/vehicles.png\")\n",
    "name = \"contour\"\n",
    "cv2.namedWindow(name)\n",
    "cv2.createTrackbar(\"index\",name,0,cv2.THRESH_BINARY | cv2.THRESH_OTSU,lambda x:x)\n",
    "\n",
    "copied_img = img.copy()\n",
    "\n",
    "ret, otsu = cv2.threshold(copied_img, -1, 255, cv2.THRESH_BINARY | cv2.THRESH_OTSU)\n",
    "contours, hierachy = cv2.findContours(otsu, cv2.RETR_LIST, cv2.CHAIN_APPROX_NONE)\n",
    "for cnt in contours:\n",
    "    if cv2.contourArea(cnt) >1000:\n",
    "        x,y,width,height = cv2.boundingRect(cnt)\n",
    "        cv2.rectangle(copied_img,(x,y),(x+widith,y+height),(0,200,0),2)\n",
    "\n",
    "cv2.imshow(\"contour\", copied_img)\n",
    "cv2.waitKey(0)\n",
    "cv2.destroyAllWindows()\n"
   ]
  },
  {
   "cell_type": "markdown",
   "metadata": {},
   "source": [
    "### 실습3 순서대로 박스 표시"
   ]
  },
  {
   "cell_type": "code",
   "execution_count": 2,
   "metadata": {},
   "outputs": [],
   "source": [
    "import cv2\n",
    "\n",
    "img = cv2.imread(\"images/vehicles.png\")\n",
    "name = \"contour\"\n",
    "cv2.namedWindow(name)\n",
    "copied_img = img.copy()\n",
    "\n",
    "gray = cv2.cvtColor(copied_img, cv2.COLOR_BGR2GRAY)\n",
    "ret, otsu = cv2.threshold(gray, -1, 255, cv2.THRESH_BINARY | cv2.THRESH_OTSU)\n",
    "\n",
    "contours, hierarchy = cv2.findContours(otsu, cv2.RETR_EXTERNAL, cv2.CHAIN_APPROX_SIMPLE)\n",
    "\n",
    "cv2.createTrackbar(\"index\", name, 0, len(contours) - 1, lambda x: x)\n",
    "\n",
    "while True:\n",
    "    \n",
    "    index = cv2.getTrackbarPos(\"index\", name)\n",
    "    copied_img = img.copy()\n",
    "\n",
    "    if 0 <= index < len(contours):\n",
    "        x, y, width, height = cv2.boundingRect(contours[index])\n",
    "        cv2.rectangle(copied_img, (x, y), (x + width, y + height), (0, 255, 0), 2)\n",
    "    cv2.imshow(name, copied_img)\n",
    "\n",
    "    if cv2.waitKey(1) == ord(\"q\"):\n",
    "        break\n",
    "cv2.destroyAllWindows()\n"
   ]
  },
  {
   "cell_type": "code",
   "execution_count": 14,
   "metadata": {},
   "outputs": [],
   "source": [
    "import cv2\n",
    "\n",
    "# 이미지 불러오기\n",
    "img = cv2.imread(\"images/vehicles.png\")\n",
    "name = \"contour\"\n",
    "cv2.namedWindow(name)\n",
    "copied_img = img.copy()\n",
    "\n",
    "# 그레이스케일 변환 및 이진화\n",
    "gray = cv2.cvtColor(copied_img, cv2.COLOR_BGR2GRAY)\n",
    "ret, otsu = cv2.threshold(gray, -1, 255, cv2.THRESH_BINARY | cv2.THRESH_OTSU)\n",
    "\n",
    "# 윤곽선 검출 (외곽 윤곽선만)\n",
    "contours, hierarchy = cv2.findContours(otsu, cv2.RETR_EXTERNAL, cv2.CHAIN_APPROX_SIMPLE)\n",
    "\n",
    "# 윤곽선 필터링 및 바운딩 박스 생성\n",
    "bounding_boxes = [cv2.boundingRect(cnt) for cnt in contours if cv2.contourArea(cnt) > 1000]\n",
    "\n",
    "# 트랙바 생성\n",
    "cv2.createTrackbar(\"index\", name, 0, len(bounding_boxes) - 1, lambda x: None)\n",
    "\n",
    "# 무한 루프\n",
    "while True:\n",
    "    # 트랙바 값 가져오기\n",
    "    index = cv2.getTrackbarPos(\"index\", name)\n",
    "    copied_img = img.copy()\n",
    "\n",
    "    # 트랙바 값에 해당하는 윤곽선 바운딩 박스 그리기\n",
    "    if 0 <= index < len(bounding_boxes):\n",
    "        x, y, width, height = bounding_boxes[index]\n",
    "        cv2.rectangle(copied_img, (x, y), (x + width, y + height), (0, 255, 0), 2)\n",
    "\n",
    "    # 이미지 업데이트\n",
    "    cv2.imshow(name, copied_img)\n",
    "\n",
    "    # 'q' 키로 종료\n",
    "    if cv2.waitKey(1) & 0xFF == ord(\"q\"):\n",
    "        break\n",
    "\n",
    "cv2.destroyAllWindows()\n"
   ]
  },
  {
   "cell_type": "markdown",
   "metadata": {},
   "source": [
    "### 의사코드로 작성"
   ]
  },
  {
   "cell_type": "code",
   "execution_count": 11,
   "metadata": {},
   "outputs": [],
   "source": [
    "img = cv2.imread(\"images/vehicles.png\")\n",
    "coppied = img.copy()\n",
    "name = \"vi\"\n",
    "cv2.namedWindow(name)\n",
    "# 윤곽선을 찾고 :그레이 스케일 -> 이진화 ->findContours\n",
    "gray = cv2.cvtColor(coppied,cv2.COLOR_BGR2GRAY)\n",
    "ret,binary = cv2.threshold(gray,-1,255,cv2.THRESH_BINARY | cv2.THRESH_OTSU)\n",
    "contours, hierarchy = cv2.findContours(binary, cv2.RETR_EXTERNAL, cv2.CHAIN_APPROX_SIMPLE)\n",
    "\n",
    "# 윤곽선의 인덱스를 선택해서 -> 트랙바 이용 ->while\n",
    "cv2.createTrackbar(\"index\",name,0,len(contours)-1,lambda x:x)\n",
    "\n",
    "while True:\n",
    "    target = img.copy()\n",
    "    index = cv2.getTrackbarPos(\"index\",name)\n",
    "# 해당 인덱스의 boundig rect추출하고 -> boundingRect\n",
    "    x,y,widith,height = cv2.boundingRect(contours[index])\n",
    "#contour[i] -> rect\n",
    "# 화면에 사각형 그리기 cv2.rectangle\n",
    "    cv2.rectangle(target, (x, y), (x + width, y + height), (0, 255, 0), 2)\n",
    "    cv2.imshow(name,target)\n",
    "    if cv2.waitKey(1) == ord(\"q\"):\n",
    "        break\n",
    "\n",
    "cv2.destroyAllWindows()"
   ]
  },
  {
   "cell_type": "code",
   "execution_count": 15,
   "metadata": {},
   "outputs": [],
   "source": [
    "img = cv2.imread(\"images/vehicles.png\")\n",
    "coppied = img.copy()\n",
    "name = \"Vehicles\"\n",
    "cv2.namedWindow(name)\n",
    "\n",
    "# 윤곽선을 찾고 : 그레이스케일 -> 이진화 -> findContours\n",
    "gray = cv2.cvtColor(coppied, cv2.COLOR_BGR2GRAY)\n",
    "ret, binary = cv2.threshold(gray, -1, 255, cv2.THRESH_BINARY | cv2.THRESH_OTSU)\n",
    "contours, hierachy = cv2.findContours(binary, cv2.RETR_EXTERNAL, cv2.CHAIN_APPROX_SIMPLE)\n",
    "\n",
    "# 윤곽선의 인덱스를 선택해서 -> 트랙바이용 -> while\n",
    "cv2.createTrackbar(\"Index\", name, 0, len(contours)-1, lambda x:x)\n",
    "\n",
    "while True:\n",
    "  target = img.copy()\n",
    "  index = cv2.getTrackbarPos(\"Index\", name)\n",
    "\n",
    "  # 해당 인덱스의 contour의 bounding rect를 추출하고 -> cv2.boundingRect\n",
    "  x, y, width, height = cv2.boundingRect(contours[index])\n",
    "\n",
    "  # contours[i] -> rect\n",
    "  # 화면에 사각형을 그린다다 -> cv2.rectangle\n",
    "  cv2.rectangle(target, (x,y), (x+width, y+height), (0,255,0), 2)\n",
    "  cv2.imshow(name, target)\n",
    "\n",
    "  if cv2.waitKey(1) == ord(\"q\"):\n",
    "    break\n",
    "\n",
    "cv2.destroyAllWindows()"
   ]
  },
  {
   "cell_type": "markdown",
   "metadata": {},
   "source": [
    "### 12-3 윤곽선의 면적을 계산하기"
   ]
  },
  {
   "cell_type": "code",
   "execution_count": 6,
   "metadata": {},
   "outputs": [],
   "source": [
    "img = cv2.imread(\"images/vehicles.png\")\n",
    "coppied = img.copy()\n",
    "name = \"Vehicles\"\n",
    "cv2.namedWindow(name)\n",
    "\n",
    "gray = cv2.cvtColor(coppied, cv2.COLOR_BGR2GRAY)\n",
    "ret, binary = cv2.threshold(gray, -1, 255, cv2.THRESH_BINARY | cv2.THRESH_OTSU)\n",
    "contours, hierachy = cv2.findContours(binary, cv2.RETR_EXTERNAL, cv2.CHAIN_APPROX_SIMPLE)\n",
    "\n",
    "# 윤곽선의 면적을 특정 크기 이상인 윤곽선을 새로운 리스트에 저장\n",
    "MIN_AREA = 1000\n",
    "filtered_contours =[]\n",
    "for contour in contours:\n",
    "  if cv2.contourArea(contour) > MIN_AREA:\n",
    "    filtered_contours.append(contour)\n",
    "\n",
    "\n",
    "cv2.createTrackbar(\"Index\", name, 0, len(filtered_contours)-1, lambda x:x)\n",
    "\n",
    "while True:\n",
    "  target = img.copy()\n",
    "  index = cv2.getTrackbarPos(\"Index\", name)\n",
    "  \n",
    "  x, y, width, height = cv2.boundingRect(filtered_contours[index])\n",
    "\n",
    "  cv2.rectangle(target, (x,y), (x+width, y+height), (0,255,0), 2)\n",
    "  cv2.imshow(name, target)\n",
    "\n",
    "  if cv2.waitKey(1) == ord(\"q\"):\n",
    "    break\n",
    "\n",
    "cv2.destroyAllWindows()"
   ]
  },
  {
   "cell_type": "markdown",
   "metadata": {},
   "source": [
    "### 실습 4"
   ]
  },
  {
   "cell_type": "code",
   "execution_count": 1,
   "metadata": {},
   "outputs": [],
   "source": [
    "import cv2"
   ]
  },
  {
   "cell_type": "code",
   "execution_count": 11,
   "metadata": {},
   "outputs": [],
   "source": [
    "img = cv2.imread(\"images/playing_cards.png\")\n",
    "coppied = img.copy()\n",
    "\n",
    "gray= cv2.cvtColor(coppied,cv2.COLOR_BGR2GRAY)\n",
    "ret,binary = cv2.threshold(gray,-1,255,cv2.THRESH_BINARY | cv2.THRESH_OTSU)\n",
    "contours,hierachy =cv2.findContours(binary,cv2.RETR_EXTERNAL,cv2.CHAIN_APPROX_SIMPLE)\n",
    "\n",
    "MIN_AREA = 1000\n",
    "filtered_contours =[]\n",
    "cropped_images = []\n",
    "\n",
    "for contour in contours:\n",
    "    if cv2.contourArea(contour) > MIN_AREA:\n",
    "        filtered_contours.append(contour)\n",
    "        x,y,width,height = cv2.boundingRect(contour)\n",
    "        cropped = img[y:y + height, x:x + width]\n",
    "        \n",
    "        cropped_images.append(cropped)\n",
    "        \n",
    "        \n",
    "        cv2.rectangle(coppied,(x,y),(x+width,y+height),(0,255,0),1,cv2.LINE_AA)\n",
    "\n",
    "cv2.imshow(\"contour\", coppied)\n",
    "for i, cropped in enumerate(cropped_images):\n",
    "    cv2.imshow(f\"Contour {i + 1}\", cropped)\n",
    "\n",
    "cv2.waitKey(0)\n",
    "cv2.destroyAllWindows()"
   ]
  },
  {
   "cell_type": "code",
   "execution_count": 7,
   "metadata": {},
   "outputs": [],
   "source": [
    "img = cv2.imread(\"images/playing_cards.png\")\n",
    "coppied = img.copy()\n",
    "\n",
    "gray= cv2.cvtColor(coppied,cv2.COLOR_BGR2GRAY)\n",
    "ret,binary = cv2.threshold(gray,-1,255,cv2.THRESH_BINARY | cv2.THRESH_OTSU)\n",
    "contours,_ =cv2.findContours(binary,cv2.RETR_EXTERNAL,cv2.CHAIN_APPROX_SIMPLE)\n",
    "\n",
    "for idx,contour in enumerate(contours): #\n",
    "    if cv2.contourArea(contour) >1000:\n",
    "        x,y,width,height = cv2.boundingRect(contour)\n",
    "        cv2.rectangle(img,(x,y),(x+width,y+height),(0,255,0),1)\n",
    "        crop = img[y:y+height,x:x+width]\n",
    "        crop = cv2.resize(crop,None,fx=1.5,fy=1.5)\n",
    "        cv2.imshow(f\"card{idx}\",crop)\n",
    "\n",
    "cv2.imshow(\"img\",img)\n",
    "cv2.waitKey(0)\n",
    "cv2.destroyAllWindows()\n"
   ]
  }
 ],
 "metadata": {
  "kernelspec": {
   "display_name": "my_cv",
   "language": "python",
   "name": "python3"
  },
  "language_info": {
   "codemirror_mode": {
    "name": "ipython",
    "version": 3
   },
   "file_extension": ".py",
   "mimetype": "text/x-python",
   "name": "python",
   "nbconvert_exporter": "python",
   "pygments_lexer": "ipython3",
   "version": "3.13.1"
  }
 },
 "nbformat": 4,
 "nbformat_minor": 2
}
