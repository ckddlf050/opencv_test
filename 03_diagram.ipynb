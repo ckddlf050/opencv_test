{
 "cells": [
  {
   "cell_type": "markdown",
   "metadata": {},
   "source": [
    "## 03 도형그리기"
   ]
  },
  {
   "cell_type": "code",
   "execution_count": 1,
   "metadata": {},
   "outputs": [],
   "source": [
    "import cv2\n",
    "import numpy as np"
   ]
  },
  {
   "cell_type": "markdown",
   "metadata": {},
   "source": [
    "### 3-1 빈화면 만들기\n"
   ]
  },
  {
   "cell_type": "code",
   "execution_count": null,
   "metadata": {},
   "outputs": [],
   "source": [
    "img = np.zeros((460,640,3),dtype=np.uint8)\n",
    "#int:-128~127 vs unit 0~255(양수만)\n",
    "img[:]=(255,255,255) #전체공간을 255(흰색)로 채움\n",
    "\n",
    "cv2.imshow(\"blank\",img)\n",
    "cv2.waitKey(0)\n",
    "cv2.destroyAllWindows()"
   ]
  },
  {
   "cell_type": "markdown",
   "metadata": {},
   "source": [
    "### 3-2 일부 영역 색칠\n"
   ]
  },
  {
   "cell_type": "code",
   "execution_count": 19,
   "metadata": {},
   "outputs": [],
   "source": [
    "img_2 = np.zeros((460,640,3),dtype=np.uint8)\n",
    "#int:-128~127 vs unit 0~255(양수만)\n",
    "img_2[0:300,0:400]=(200,100,100) #전체공간을 255(흰색)로 채움\n",
    "    #[세로영역(행),가로영역(열)]\n",
    "cv2.imshow(\"ca\",img_2)\n",
    "cv2.waitKey(0)\n",
    "cv2.destroyAllWindows()"
   ]
  },
  {
   "cell_type": "markdown",
   "metadata": {},
   "source": [
    "### 3-3 선 그리기 "
   ]
  },
  {
   "cell_type": "code",
   "execution_count": 28,
   "metadata": {},
   "outputs": [],
   "source": [
    "img = np.zeros((460,640,3),dtype=np.uint8)\n",
    "\n",
    "COLOR=(255,255,255)\n",
    "THICKNSS = 5\n",
    "\n",
    "cv2.line(img,(50,100),(400,50),COLOR,THICKNSS,cv2.LINE_4)\n",
    "cv2.line(img,(50,200),(400,150),COLOR,THICKNSS,cv2.LINE_8)\n",
    "cv2.line(img,(50,300),(400,250),COLOR,THICKNSS,cv2.LINE_AA)\n",
    "\n",
    "cv2.imshow(\"Line\",img)\n",
    "cv2.waitKey(0)\n",
    "cv2.destroyAllWindows()"
   ]
  },
  {
   "cell_type": "markdown",
   "metadata": {},
   "source": [
    "### 3-4 원 그리기"
   ]
  },
  {
   "cell_type": "code",
   "execution_count": 34,
   "metadata": {},
   "outputs": [],
   "source": [
    "img = np.zeros((460,640,3), dtype=np.uint8)\n",
    "RADIUS = 50\n",
    "COLOR = (0,255,0)\n",
    "THICKNESS = 10\n",
    "#속이 빈 원\n",
    "cv2.circle(img,(200,300),RADIUS,COLOR,THICKNESS,cv2.LINE_AA) #cv2.LINE_4 :4 , cv2.LINE_8 :8 , cv2.LINE_AA : 16\n",
    "#속이 찬 원\n",
    "cv2.circle(img,(400,300),RADIUS,COLOR,cv2.FILLED,cv2.LINE_AA)\n",
    "cv2.imshow('Circle',img)\n",
    "cv2.waitKey(0)\n",
    "cv2.destroyAllWindows()"
   ]
  },
  {
   "cell_type": "code",
   "execution_count": 32,
   "metadata": {},
   "outputs": [
    {
     "data": {
      "text/plain": [
       "16"
      ]
     },
     "execution_count": 32,
     "metadata": {},
     "output_type": "execute_result"
    }
   ],
   "source": [
    "cv2.LINE_AA"
   ]
  },
  {
   "cell_type": "markdown",
   "metadata": {},
   "source": [
    "### 3-5 타원 그리기"
   ]
  },
  {
   "cell_type": "code",
   "execution_count": 39,
   "metadata": {},
   "outputs": [],
   "source": [
    "img = np.zeros((460,640,3), dtype=np.uint8)\n",
    "\n",
    "cv2.ellipse(img,(300,200),(100,50),0,0,180,(0,0,255),5,cv2.LINE_AA)\n",
    "\n",
    "cv2.imshow(\"ellipse\",img)\n",
    "cv2.waitKey(0)\n",
    "cv2.destroyAllWindows()"
   ]
  },
  {
   "cell_type": "markdown",
   "metadata": {},
   "source": [
    "### 3-5 사각형 그리기"
   ]
  },
  {
   "cell_type": "code",
   "execution_count": 43,
   "metadata": {},
   "outputs": [],
   "source": [
    "img = np.zeros((460,640,3), dtype=np.uint8)\n",
    "\n",
    "cv2.rectangle(img,(50,50),(250,250),(255,255,0),10,cv2.LINE_AA)\n",
    "cv2.rectangle(img,(260,50),(460,250),(255,255,0),cv2.FILLED,cv2.LINE_AA)\n",
    "\n",
    "cv2.imshow(\"rectangle\",img)\n",
    "cv2.waitKey(0)\n",
    "cv2.destroyAllWindows()"
   ]
  },
  {
   "cell_type": "markdown",
   "metadata": {},
   "source": [
    "### 3-7 다각형(선)"
   ]
  },
  {
   "cell_type": "code",
   "execution_count": 47,
   "metadata": {},
   "outputs": [],
   "source": [
    "img = np.zeros((460,640,3), dtype=np.uint8)\n",
    "\n",
    "pts = np.array([[100,100],[200,100],[100,200]])\n",
    "\n",
    "cv2.polylines(img,[pts],True,(0,255,255),5)\n",
    "cv2.imshow(\"polylines\",img)\n",
    "cv2.waitKey(0)\n",
    "cv2.destroyAllWindows()"
   ]
  },
  {
   "cell_type": "markdown",
   "metadata": {},
   "source": [
    "### 3-8 다각형 (채우기)\n",
    "- 닫는 여부 필요 x, 선 두께 필요x"
   ]
  },
  {
   "cell_type": "code",
   "execution_count": 49,
   "metadata": {},
   "outputs": [],
   "source": [
    "img = np.zeros((460,640,3), dtype=np.uint8)\n",
    "\n",
    "pts = np.array([[100,100],[200,100],[100,200]])\n",
    "\n",
    "cv2.fillPoly(img,[pts],(0,255,255))\n",
    "cv2.imshow(\"polylines\",img)\n",
    "cv2.waitKey(0)\n",
    "cv2.destroyAllWindows()"
   ]
  },
  {
   "cell_type": "code",
   "execution_count": 71,
   "metadata": {},
   "outputs": [],
   "source": [
    "img = np.zeros((460,640,3), dtype=np.uint8)\n",
    "pts = np.array([[100,100],[200,100],[100,200]])\n",
    "pts2 = np.array([[200,100],[300,100],[400,200]])\n",
    "\n",
    "cv2.line(img,(50,100),(100,200),(255,0,255),3,cv2.LINE_AA)\n",
    "cv2.circle(img,(250,300),50,(255,200,220),3,cv2.LINE_AA)\n",
    "cv2.ellipse(img,(250,300),(100,50),0,0,360,(100,100,255),3,cv2.LINE_AA)\n",
    "cv2.rectangle(img,(50,300),(400,200),(180,250,250),3,cv2.LINE_AA)\n",
    "cv2.polylines(img,[pts],True,(100,100,255),3)\n",
    "cv2.fillPoly(img,[pts2],(100,150,255))\n",
    "\n",
    "\n",
    "cv2.imshow(\"polylines\",img)\n",
    "cv2.waitKey(0)\n",
    "cv2.destroyAllWindows()"
   ]
  }
 ],
 "metadata": {
  "kernelspec": {
   "display_name": "my_cv",
   "language": "python",
   "name": "python3"
  },
  "language_info": {
   "codemirror_mode": {
    "name": "ipython",
    "version": 3
   },
   "file_extension": ".py",
   "mimetype": "text/x-python",
   "name": "python",
   "nbconvert_exporter": "python",
   "pygments_lexer": "ipython3",
   "version": "3.13.1"
  }
 },
 "nbformat": 4,
 "nbformat_minor": 2
}
