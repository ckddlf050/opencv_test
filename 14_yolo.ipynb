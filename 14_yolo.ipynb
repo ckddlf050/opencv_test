{
 "cells": [
  {
   "cell_type": "markdown",
   "metadata": {},
   "source": [
    "## 14.YOLO"
   ]
  },
  {
   "cell_type": "code",
   "execution_count": null,
   "metadata": {},
   "outputs": [],
   "source": [
    "%pip install ultralytics"
   ]
  },
  {
   "cell_type": "code",
   "execution_count": 2,
   "metadata": {},
   "outputs": [],
   "source": [
    "from ultralytics import YOLO\n",
    "import cv2\n",
    "import numpy as np"
   ]
  },
  {
   "cell_type": "code",
   "execution_count": null,
   "metadata": {},
   "outputs": [
    {
     "name": "stdout",
     "output_type": "stream",
     "text": [
      "\n",
      "0: 640x576 2 persons, 2 cars, 1 bus, 313.7ms\n",
      "Speed: 12.0ms preprocess, 313.7ms inference, 3.0ms postprocess per image at shape (1, 3, 640, 576)\n"
     ]
    }
   ],
   "source": [
    "#yolo 모델 불러오기\n",
    "\n",
    "model =YOLO('yolo11n.pt')\n",
    "img = cv2.imread(\"images/img1.jpg\")\n",
    "result = model.predict(source=img,conf=0.5)\n",
    "\n",
    "annotated_frame =result[0].plot()\n",
    "\n",
    "cv2.imshow(\"img\",annotated_frame)d\n",
    "cv2.waitKey(0)\n",
    "cv2.destroyAllWindows()\n"
   ]
  },
  {
   "cell_type": "code",
   "execution_count": null,
   "metadata": {},
   "outputs": [],
   "source": []
  }
 ],
 "metadata": {
  "kernelspec": {
   "display_name": "ultralytics-env",
   "language": "python",
   "name": "python3"
  },
  "language_info": {
   "codemirror_mode": {
    "name": "ipython",
    "version": 3
   },
   "file_extension": ".py",
   "mimetype": "text/x-python",
   "name": "python",
   "nbconvert_exporter": "python",
   "pygments_lexer": "ipython3",
   "version": "3.11.11"
  }
 },
 "nbformat": 4,
 "nbformat_minor": 2
}
