{
 "cells": [
  {
   "cell_type": "markdown",
   "metadata": {},
   "source": [
    "## 텍스트 입력\n",
    "한글x"
   ]
  },
  {
   "cell_type": "code",
   "execution_count": 1,
   "metadata": {},
   "outputs": [],
   "source": [
    "import cv2\n",
    "import numpy as np\n"
   ]
  },
  {
   "cell_type": "code",
   "execution_count": 6,
   "metadata": {},
   "outputs": [],
   "source": [
    "img = np.zeros((460,640,3), dtype=np.uint8)\n",
    "\n",
    "SCALE = 1\n",
    "COLOR = (255,0,100)\n",
    "THICKNESS = 2\n",
    "\n",
    "cv2.putText(img,\"Hello\",(100,100),cv2.FONT_HERSHEY_COMPLEX,SCALE,COLOR,THICKNESS)\n",
    "cv2.putText(img,\"Hello\",(200,200),cv2.FONT_HERSHEY_DUPLEX,SCALE,COLOR,THICKNESS)\n",
    "cv2.putText(img,\"Hello\",(50,300),cv2.FONT_HERSHEY_PLAIN|cv2.FONT_ITALIC,SCALE,COLOR,THICKNESS)\n",
    "cv2.imshow(\"Text\",img)\n",
    "cv2.waitKey(0)\n",
    "cv2.destroyAllWindows()"
   ]
  },
  {
   "cell_type": "markdown",
   "metadata": {},
   "source": [
    "### 4-2 한글 텍스트 입력"
   ]
  },
  {
   "cell_type": "code",
   "execution_count": 7,
   "metadata": {},
   "outputs": [
    {
     "name": "stdout",
     "output_type": "stream",
     "text": [
      "Collecting pillowNote: you may need to restart the kernel to use updated packages.\n",
      "\n",
      "  Downloading pillow-11.1.0-cp313-cp313-win_amd64.whl.metadata (9.3 kB)\n",
      "Downloading pillow-11.1.0-cp313-cp313-win_amd64.whl (2.6 MB)\n",
      "   ---------------------------------------- 0.0/2.6 MB ? eta -:--:--\n",
      "   --------------- ------------------------ 1.0/2.6 MB 5.2 MB/s eta 0:00:01\n",
      "   ------------------------------- -------- 2.1/2.6 MB 5.2 MB/s eta 0:00:01\n",
      "   ---------------------------------------- 2.6/2.6 MB 4.6 MB/s eta 0:00:00\n",
      "Installing collected packages: pillow\n",
      "Successfully installed pillow-11.1.0\n"
     ]
    }
   ],
   "source": [
    "%pip install pillow"
   ]
  },
  {
   "cell_type": "code",
   "execution_count": 11,
   "metadata": {},
   "outputs": [],
   "source": [
    "from PIL import Image,ImageDraw,ImageFont\n",
    "\n",
    "img = np.zeros((460,640,3), dtype=np.uint8)\n",
    "\n",
    "def putKorText(img,text,pos,font_size,font_color):\n",
    "    img_pil = Image.fromarray(img)\n",
    "    draw = ImageDraw.Draw(img_pil)\n",
    "    font = ImageFont.truetype(\"fonts/gulim.ttc\",font_size)\n",
    "    draw.text(pos,text,font=font,fill= font_color)\n",
    "    return np.array(img_pil)\n",
    "\n",
    "text = putKorText(img,\"롤체하고싶다\",(100,100),30,(255,255,255))\n",
    "\n",
    "cv2.imshow(\"Korean text\",text)\n",
    "cv2.waitKey(0)\n",
    "cv2.destroyAllWindows()"
   ]
  },
  {
   "cell_type": "code",
   "execution_count": null,
   "metadata": {},
   "outputs": [],
   "source": []
  }
 ],
 "metadata": {
  "kernelspec": {
   "display_name": "my_cv",
   "language": "python",
   "name": "python3"
  },
  "language_info": {
   "codemirror_mode": {
    "name": "ipython",
    "version": 3
   },
   "file_extension": ".py",
   "mimetype": "text/x-python",
   "name": "python",
   "nbconvert_exporter": "python",
   "pygments_lexer": "ipython3",
   "version": "3.13.1"
  }
 },
 "nbformat": 4,
 "nbformat_minor": 2
}
