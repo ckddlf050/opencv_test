{
 "cells": [
  {
   "cell_type": "code",
   "execution_count": 1,
   "metadata": {},
   "outputs": [
    {
     "name": "stdout",
     "output_type": "stream",
     "text": [
      "Collecting pytesseractNote: you may need to restart the kernel to use updated packages.\n",
      "\n",
      "  Downloading pytesseract-0.3.13-py3-none-any.whl.metadata (11 kB)\n",
      "Requirement already satisfied: packaging>=21.3 in c:\\users\\ckddl\\documents\\opencv-project\\my_cv\\lib\\site-packages (from pytesseract) (24.2)\n",
      "Requirement already satisfied: Pillow>=8.0.0 in c:\\users\\ckddl\\documents\\opencv-project\\my_cv\\lib\\site-packages (from pytesseract) (11.1.0)\n",
      "Downloading pytesseract-0.3.13-py3-none-any.whl (14 kB)\n",
      "Installing collected packages: pytesseract\n",
      "Successfully installed pytesseract-0.3.13\n"
     ]
    }
   ],
   "source": [
    "%pip install pytesseract"
   ]
  },
  {
   "cell_type": "code",
   "execution_count": 2,
   "metadata": {},
   "outputs": [
    {
     "name": "stdout",
     "output_type": "stream",
     "text": [
      "'오징어게임2'도 글로벌 대박…외신\n",
      "혹평에도 이틀만에 93개국 1위\n",
      "\n"
     ]
    }
   ],
   "source": [
    "import cv2\n",
    "from pytesseract import pytesseract as pyt\n",
    "\n",
    "pyt.tesseract_cmd = r\"C:\\Users\\ckddl\\AppData\\Local\\Programs\\Tesseract-OCR/tesseract.exe\"\n",
    "img = cv2.imread(\"images/ocr_test.png\",cv2.IMREAD_GRAYSCALE)\n",
    "\n",
    "text = pyt.image_to_string(img,lang=\"kor\")\n",
    "print(text)"
   ]
  },
  {
   "cell_type": "code",
   "execution_count": 6,
   "metadata": {},
   "outputs": [
    {
     "name": "stdout",
     "output_type": "stream",
     "text": [
      "wer 매일경제           구독+\n",
      "\n",
      "“세월 못비켜갈 줄 알았는데“.…원\n",
      "\n",
      "빈, 16년 모델 교체되더니 다시 …\n",
      "\n",
      "01월 09일 09:13\n",
      "\n",
      "S$ 42484           FS+\n",
      "\"한국에서 무조건 가야 한다\".…중\n",
      "국인들 오기만 하면 쓸어 IC...\n",
      "01월 09일 08:53\n",
      "\n",
      "@ worse        구독+\n",
      "'왔다! 장보리' 김지영, '전 남친 wl\n",
      "투' 2년만에 입 열어 \"법적 절차.\n",
      "\n",
      "01월 09일 09:09\n",
      "\n",
      "@ 2224           구독+\n",
      "소재원 작가, 'F 지지' AES A\n",
      "격..\"빼우 욕보이지 말라\"\n",
      "\n",
      "01월 09일 09:05\n",
      "\n"
     ]
    }
   ],
   "source": [
    "import cv2\n",
    "from pytesseract import pytesseract as pyt\n",
    "\n",
    "pyt.tesseract_cmd = r\"C:\\Users\\ckddl\\AppData\\Local\\Programs\\Tesseract-OCR/tesseract.exe\"\n",
    "img = cv2.imread(\"images/News.JPG\",cv2.IMREAD_GRAYSCALE)\n",
    "ret,binary = cv2.threshold(img,-1,255,cv2.THRESH_BINARY|cv2.THRESH_OTSU)\n",
    "\n",
    "text = pyt.image_to_string(img,lang=\"kor+eng\")\n",
    "print(text)"
   ]
  },
  {
   "cell_type": "code",
   "execution_count": 7,
   "metadata": {},
   "outputs": [
    {
     "name": "stdout",
     "output_type": "stream",
     "text": [
      "여스즈\n",
      "OTS\n",
      "\n",
      "영수즘번호:230522-0103-0142-01\n",
      "상호:메이크커피\n",
      "220-09-33826 16.)010-4288-9949 몽진명\n",
      "주소:서물특별시 강남구 강남대로94길 27 (역삼동)\n",
      "\n",
      "1증\n",
      "\n",
      "테이블번호: KIOSK           주문담당자:관리자\n",
      "\n",
      "계산일자:2023-05-22             시간:13:45:06\n",
      "\n",
      "=ae 말인 at\n",
      "\n",
      "아메리카노                      3                  4, 200\n",
      ">> ICE                        3                     0\n",
      "\n",
      "[카 S 번 호] 3565160400“634*\n",
      "[할 부 개 월] 0\n",
      "\n",
      "[카 드 At 명] NHS\n",
      "\n",
      "[승 인 번 호] 51423660\n",
      "\n",
      "[결 제 금 액] 4,200\n",
      "\n",
      "\n"
     ]
    }
   ],
   "source": [
    "import cv2\n",
    "from pytesseract import pytesseract as pyt\n",
    "\n",
    "pyt.tesseract_cmd = r\"C:\\Users\\ckddl\\AppData\\Local\\Programs\\Tesseract-OCR/tesseract.exe\"\n",
    "img = cv2.imread(\"images/bill.png\",cv2.IMREAD_GRAYSCALE)\n",
    "ret,binary = cv2.threshold(img,-1,255,cv2.THRESH_BINARY|cv2.THRESH_OTSU)\n",
    "\n",
    "text = pyt.image_to_string(img,lang=\"kor+eng\")\n",
    "print(text)"
   ]
  },
  {
   "cell_type": "code",
   "execution_count": null,
   "metadata": {},
   "outputs": [],
   "source": []
  },
  {
   "cell_type": "code",
   "execution_count": 8,
   "metadata": {},
   "outputs": [
    {
     "name": "stdout",
     "output_type": "stream",
     "text": [
      "\n"
     ]
    }
   ],
   "source": [
    "import cv2\n",
    "import numpy as np\n",
    "from pytesseract import pytesseract as pyt\n",
    "\n",
    "\n",
    "pyt.tesseract_cmd = r\"C:\\Users\\ckddl\\AppData\\Local\\Programs\\Tesseract-OCR/tesseract.exe\"\n",
    "img = cv2.imread(\"images/stop.png\",cv2.IMREAD_GRAYSCALE)\n",
    "text = pyt.image_to_string(img,lang=\"kor+eng\")\n",
    "point_list=[]\n",
    "\n",
    "def show_result():\n",
    "    width, height = 600, 350\n",
    "    src = np.array(point_list, dtype=np.float32)\n",
    "  # src = np.float32(point_list)\n",
    "    target = np.array([[0,0], [width, 0], [width, height], [0, height]], dtype=np.float32)\n",
    "    mat = cv2.getPerspectiveTransform(src, target)\n",
    "    result = cv2.warpPerspective(img, mat, (width, height))\n",
    "    cv2.imshow(\"result\", result)\n",
    "\n",
    "drawing = False\n",
    "def on_mouse(event, x, y, flags, _):\n",
    "  global drawing\n",
    "  coppied = img.copy()\n",
    "  if event == cv2.EVENT_LBUTTONDOWN:\n",
    "    drawing = True\n",
    "    point_list.append((x,y))\n",
    "\n",
    "    if drawing:\n",
    "        prev_point = None\n",
    "        for point in point_list:\n",
    "            cv2.circle(coppied, point, 10, (0,0,255), cv2.FILLED)\n",
    "            if prev_point:\n",
    "                cv2.line(coppied, prev_point, point, (0,0,255), 5)\n",
    "            prev_point = point\n",
    "\n",
    "        next_point = (x,y)\n",
    "        if len(point_list) == 4:\n",
    "            next_point = point_list[0]\n",
    "            show_result()\n",
    "        cv2.line(coppied, point_list[-1], next_point, (0,0,255), 5)\n",
    "\n",
    "    cv2.imshow(name, coppied)\n",
    "name = \"aaa\"\n",
    "cv2.setMouseCallback(name, on_mouse)\n",
    "cv2.waitKey(0)\n",
    "cv2.destroyAllWindows()\n",
    "\n",
    "print(text)"
   ]
  },
  {
   "cell_type": "markdown",
   "metadata": {},
   "source": [
    "## 실습 코드"
   ]
  },
  {
   "cell_type": "code",
   "execution_count": 3,
   "metadata": {},
   "outputs": [
    {
     "name": "stdout",
     "output_type": "stream",
     "text": [
      "정지\n",
      "STOP\n",
      "\n"
     ]
    }
   ],
   "source": [
    "import cv2\n",
    "import numpy as np\n",
    "from pytesseract import pytesseract as pyt\n",
    "\n",
    "img = cv2.imread(\"images/stop.png\")\n",
    "original = img.copy()\n",
    "\n",
    "cv2.namedWindow(\"image\")\n",
    "cv2.setMouseCallback(\"image\", select_points)\n",
    "\n",
    "\n",
    "\n",
    "pyt.tesseract_cmd = r\"C:\\Users\\ckddl\\AppData\\Local\\Programs\\Tesseract-OCR/tesseract.exe\"\n",
    "\n",
    "points = []  \n",
    "\n",
    "def select_points(event, x, y, flags,_):\n",
    "    global points, img\n",
    "\n",
    "    if event == cv2.EVENT_LBUTTONDOWN:\n",
    "        if len(points) < 4:  # 네 점만 선택 가능\n",
    "            points.append((x, y))\n",
    "            cv2.circle(img, (x, y), 5, (0, 255, 0), -1)\n",
    "            cv2.imshow(\"image\", img)\n",
    "\n",
    "while True:\n",
    "    cv2.imshow(\"image\", img)\n",
    "    key = cv2.waitKey(1) \n",
    "    if key == ord(\"q\") and len(points) == 4:  # 'q' 키를 누르면 종료\n",
    "        break\n",
    "\n",
    "# 네 점이 선택된 경우\n",
    "if len(points) == 4:\n",
    "    # 변환 전, 후 점 설정\n",
    "    pts1 = np.float32(points)\n",
    "    width = max(\n",
    "        int(np.linalg.norm(pts1[1] - pts1[0])),  \n",
    "        int(np.linalg.norm(pts1[2] - pts1[3]))   \n",
    "    )\n",
    "    height = max(\n",
    "        int(np.linalg.norm(pts1[3] - pts1[0])),  \n",
    "        int(np.linalg.norm(pts1[2] - pts1[1]))   \n",
    "    )\n",
    "    pts2 = np.float32([[0, 0], [width, 0], [width, height], [0, height]])\n",
    "\n",
    "    # 변환 행렬 계산 및 적용\n",
    "    matrix = cv2.getPerspectiveTransform(pts1, pts2)\n",
    "    transformed = cv2.warpPerspective(original, matrix, (width, height))\n",
    "\n",
    "    # 결과 이미지 출력\n",
    "    cv2.imshow(\"Transformed\", transformed)\n",
    "    cv2.waitKey(0)\n",
    "\n",
    "    # OCR 실행\n",
    "    gray = cv2.cvtColor(transformed, cv2.COLOR_BGR2GRAY)\n",
    "    ret, binary = cv2.threshold(gray, -1, 255, cv2.THRESH_BINARY | cv2.THRESH_OTSU)\n",
    "\n",
    "    text = pyt.image_to_string(binary, lang=\"kor+eng\")\n",
    "    print(text)\n",
    "\n",
    "else:\n",
    "    print(\"네 점을 정확히 선택하지 않았습니다.\")\n",
    "\n",
    "cv2.destroyAllWindows()\n"
   ]
  },
  {
   "cell_type": "markdown",
   "metadata": {},
   "source": [
    "### 미니프로젝트 변환코드"
   ]
  },
  {
   "cell_type": "code",
   "execution_count": 11,
   "metadata": {},
   "outputs": [
    {
     "name": "stdout",
     "output_type": "stream",
     "text": [
      "a Al\n",
      "STOP\n",
      "\n"
     ]
    }
   ],
   "source": [
    "import cv2\n",
    "import numpy as np\n",
    "from pytesseract import pytesseract as pyt\n",
    "\n",
    "# Tesseract 경로 설정\n",
    "pyt.tesseract_cmd = r\"C:\\Users\\ckddl\\AppData\\Local\\Programs\\Tesseract-OCR/tesseract.exe\"\n",
    "\n",
    "# 원본 이미지 로드\n",
    "img = cv2.imread(\"images/stop.png\")\n",
    "point_list = []\n",
    "\n",
    "def show_result():\n",
    "    width, height = 600, 350\n",
    "    src = np.array(point_list, dtype=np.float32)\n",
    "    target = np.array([[0, 0], [width, 0], [width, height], [0, height]], dtype=np.float32)\n",
    "    mat = cv2.getPerspectiveTransform(src, target)\n",
    "    # 잘라낸 이미지\n",
    "    result = cv2.warpPerspective(img, mat, (width, height))\n",
    "    # OCR 실행,그레이 스케일변환\n",
    "    gray = cv2.cvtColor(result, cv2.COLOR_BGR2GRAY)\n",
    "    ret, binary = cv2.threshold(gray, -1, 255, cv2.THRESH_BINARY | cv2.THRESH_OTSU)\n",
    "    text = pyt.image_to_string(binary, lang=\"kor+eng\")\n",
    "    print(text)\n",
    "\n",
    "    # 결과 이미지 표시\n",
    "    cv2.imshow(\"result\", result)\n",
    "\n",
    "# 마우스 이벤트와 함께 실행되는 콜백 함수\n",
    "drawing = False\n",
    "def on_mouse(event, x, y, flags, _):\n",
    "    global drawing\n",
    "    coppied = img.copy()\n",
    "    if event == cv2.EVENT_LBUTTONDOWN:\n",
    "        drawing = True\n",
    "        point_list.append((x, y))\n",
    "\n",
    "    if drawing:\n",
    "        prev_point = None\n",
    "        for point in point_list:\n",
    "            cv2.circle(coppied, point, 5, (0, 0, 255), cv2.FILLED)\n",
    "            if prev_point:\n",
    "                cv2.line(coppied, prev_point, point, (0, 0, 255), 3)\n",
    "            prev_point = point\n",
    "\n",
    "        next_point = (x, y)\n",
    "        if len(point_list) == 4:\n",
    "            next_point = point_list[0]\n",
    "            show_result()\n",
    "            drawing = False\n",
    "        cv2.line(coppied, point_list[-1], next_point, (0, 0, 255), 2)\n",
    "\n",
    "    cv2.imshow(name, coppied)\n",
    "\n",
    "# 기본적인 코드 실행\n",
    "name = \"Scanner\"\n",
    "cv2.namedWindow(name)\n",
    "cv2.setMouseCallback(name, on_mouse)\n",
    "cv2.imshow(name, img)\n",
    "cv2.waitKey(0)\n",
    "cv2.destroyAllWindows()\n"
   ]
  },
  {
   "cell_type": "markdown",
   "metadata": {},
   "source": [
    "### 실습코드"
   ]
  },
  {
   "cell_type": "code",
   "execution_count": null,
   "metadata": {},
   "outputs": [],
   "source": [
    "import cv2\n",
    "import numpy as np\n",
    "from pytesseract import pytesseract as pyt\n",
    "\n",
    "img = cv2.imread(\"images/stop.png\")\n",
    "point_list = []\n",
    "pyt.tesseract_cmd = r\"C:\\Program Files\\Tesseract-OCR\\tesseract.exe\"\n",
    "\n",
    "# 최종 결과를 출력하는 함수입니다\n",
    "def show_result():\n",
    "  width, height = 300, 300\n",
    "  src = np.array(point_list, dtype=np.float32)\n",
    "  target = np.array([[0,0], [width, 0], [width, height], [0, height]], dtype=np.float32)\n",
    "  mat = cv2.getPerspectiveTransform(src, target)\n",
    "  result = cv2.warpPerspective(img, mat, (width, height))\n",
    "  \n",
    "  gray = cv2.cvtColor(result, cv2.COLOR_BGR2GRAY)\n",
    "  _, binary = cv2.threshold(gray, -1, 255, cv2.THRESH_BINARY | cv2.THRESH_OTSU)\n",
    "  text = pyt.image_to_string(binary, lang=\"kor+eng\")\n",
    "  print(text)\n",
    "  \n",
    "  cv2.imshow(\"result\", result)\n",
    "\n",
    "# 마우스 이벤트와 함께 실행되는 콜백함수입니다.\n",
    "drawing = False\n",
    "def on_mouse(event, x, y, flags, _):\n",
    "  global drawing\n",
    "  coppied = img.copy()\n",
    "  if event == cv2.EVENT_LBUTTONDOWN:\n",
    "    drawing = True\n",
    "    point_list.append((x,y))\n",
    "\n",
    "  if drawing:\n",
    "    COLOR = (0,255,255)\n",
    "    prev_point = None\n",
    "    for point in point_list:\n",
    "      cv2.circle(coppied, point, 10, COLOR, cv2.FILLED)\n",
    "      if prev_point:\n",
    "        cv2.line(coppied, prev_point, point, COLOR, 5)\n",
    "      prev_point = point\n",
    "\n",
    "    next_point = (x,y)\n",
    "    if len(point_list) == 4:\n",
    "      next_point = point_list[0]\n",
    "      show_result()\n",
    "      drawing = False\n",
    "    cv2.line(coppied, point_list[-1], next_point, COLOR, 5)\n",
    "\n",
    "  cv2.imshow(name, coppied)\n",
    "\n",
    "# 기본적인 코드 실행입니다.\n",
    "name = \"Scanner\"\n",
    "cv2.namedWindow(name)\n",
    "cv2.setMouseCallback(name, on_mouse)\n",
    "cv2.imshow(name, img)\n",
    "cv2.waitKey(0)\n",
    "cv2.destroyAllWindows()"
   ]
  },
  {
   "cell_type": "code",
   "execution_count": null,
   "metadata": {},
   "outputs": [],
   "source": []
  }
 ],
 "metadata": {
  "kernelspec": {
   "display_name": "my_cv",
   "language": "python",
   "name": "python3"
  },
  "language_info": {
   "codemirror_mode": {
    "name": "ipython",
    "version": 3
   },
   "file_extension": ".py",
   "mimetype": "text/x-python",
   "name": "python",
   "nbconvert_exporter": "python",
   "pygments_lexer": "ipython3",
   "version": "3.13.1"
  }
 },
 "nbformat": 4,
 "nbformat_minor": 2
}
