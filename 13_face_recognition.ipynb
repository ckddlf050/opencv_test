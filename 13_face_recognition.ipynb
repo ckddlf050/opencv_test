{
 "cells": [
  {
   "cell_type": "markdown",
   "metadata": {},
   "source": [
    "## 13.얼굴인식"
   ]
  },
  {
   "cell_type": "code",
   "execution_count": 17,
   "metadata": {},
   "outputs": [],
   "source": [
    "import cv2\n",
    "\n",
    "KARINA = \"images/img1.jpg\"\n",
    "ASPA = \"images/aspa.jpg\"\n"
   ]
  },
  {
   "cell_type": "code",
   "execution_count": 61,
   "metadata": {},
   "outputs": [],
   "source": [
    "face_cascade = cv2.CascadeClassifier(\"cascade/haarcascade_frontalface_default.xml\")\n",
    "eye_cascade = cv2.CascadeClassifier(\"cascade/haarcascade_eye.xml\")\n",
    "\n",
    "img = cv2.imread(KARINA)\n",
    "gray = cv2.cvtColor(img,cv2.COLOR_BGR2GRAY)\n",
    "faces = face_cascade.detectMultiScale(\n",
    "    gray,scaleFactor= 1.1,minNeighbors=10,minSize=(20,20)\n",
    ")\n",
    "# print(faces) #x,y,w,h\n",
    "eyes = eye_cascade.detectMultiScale(\n",
    "    gray,scaleFactor=1.1,minNeighbors=4\n",
    ")\n",
    "if len(faces):\n",
    "    for face in faces:\n",
    "        x,y,width,heigth = face\n",
    "        cv2.rectangle(img,(x,y),(x+width,y+heigth),(0,255,0),4)\n",
    "\n",
    "if len(eyes):\n",
    "    for eye in eyes:\n",
    "        x,y,width,heigth = eye\n",
    "        cv2.rectangle(img,(x,y),(x+width,y+heigth),(100,0,100),3)\n",
    "\n",
    "cv2.imshow(\"img\",img)\n",
    "cv2.waitKey(0)\n",
    "cv2.destroyAllWindows()\n"
   ]
  },
  {
   "cell_type": "code",
   "execution_count": null,
   "metadata": {},
   "outputs": [],
   "source": []
  }
 ],
 "metadata": {
  "kernelspec": {
   "display_name": "my_cv",
   "language": "python",
   "name": "python3"
  },
  "language_info": {
   "codemirror_mode": {
    "name": "ipython",
    "version": 3
   },
   "file_extension": ".py",
   "mimetype": "text/x-python",
   "name": "python",
   "nbconvert_exporter": "python",
   "pygments_lexer": "ipython3",
   "version": "3.13.1"
  }
 },
 "nbformat": 4,
 "nbformat_minor": 2
}
