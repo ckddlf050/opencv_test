{
 "cells": [
  {
   "cell_type": "markdown",
   "metadata": {},
   "source": [
    "## 13.얼굴인식"
   ]
  },
  {
   "cell_type": "code",
   "execution_count": 2,
   "metadata": {},
   "outputs": [],
   "source": [
    "import cv2\n",
    "\n",
    "KARINA = \"images/img1.jpg\"\n",
    "ASPA = \"images/aspa.jpg\"\n"
   ]
  },
  {
   "cell_type": "code",
   "execution_count": 4,
   "metadata": {},
   "outputs": [],
   "source": [
    "face_cascade = cv2.CascadeClassifier(\"cascade/haarcascade_frontalface_default.xml\")\n",
    "eye_cascade = cv2.CascadeClassifier(\"cascade/haarcascade_eye.xml\")\n",
    "\n",
    "img = cv2.imread(KARINA)\n",
    "gray = cv2.cvtColor(img,cv2.COLOR_BGR2GRAY)\n",
    "faces = face_cascade.detectMultiScale(\n",
    "    gray,scaleFactor= 1.1,minNeighbors=10,minSize=(20,20)\n",
    ")\n",
    "# print(faces) #x,y,w,h\n",
    "eyes = eye_cascade.detectMultiScale(\n",
    "    gray,scaleFactor=1.1,minNeighbors=4\n",
    ")\n",
    "if len(faces):\n",
    "    for face in faces:\n",
    "        x,y,width,heigth = face\n",
    "        cv2.rectangle(img,(x,y),(x+width,y+heigth),(0,255,0),4)\n",
    "\n",
    "if len(eyes):\n",
    "    for eye in eyes:\n",
    "        x,y,width,heigth = eye\n",
    "        cv2.rectangle(img,(x,y),(x+width,y+heigth),(100,0,100),3)\n",
    "\n",
    "cv2.imshow(\"img\",img)\n",
    "cv2.waitKey(0)\n",
    "cv2.destroyAllWindows()\n"
   ]
  },
  {
   "cell_type": "code",
   "execution_count": null,
   "metadata": {},
   "outputs": [],
   "source": [
    "VIDEO = \"images/video.mp4\"\n",
    "\n",
    "face_cascade = cv2.CascadeClassifier(\"cascade/haarcascade_frontalface_default.xml\")\n",
    "eye_cascade = cv2.CascadeClassifier(\"cascade/haarcascade_eye.xml\")\n",
    "\n",
    "video = cv2.\n",
    "gray = cv2.cvtColor(img,cv2.COLOR_BGR2GRAY)\n",
    "faces = face_cascade.detectMultiScale(\n",
    "    gray,scaleFactor= 1.1,minNeighbors=10,minSize=(20,20)\n",
    ")\n",
    "# print(faces) #x,y,w,h\n",
    "eyes = eye_cascade.detectMultiScale(\n",
    "    gray,scaleFactor=1.1,minNeighbors=4\n",
    ")\n",
    "if len(faces):\n",
    "    for face in faces:\n",
    "        x,y,width,heigth = face\n",
    "        cv2.rectangle(img,(x,y),(x+width,y+heigth),(0,255,0),4)\n",
    "\n",
    "if len(eyes):\n",
    "    for eye in eyes:\n",
    "        x,y,width,heigth = eye\n",
    "        cv2.rectangle(img,(x,y),(x+width,y+heigth),(100,0,100),3)\n",
    "\n",
    "cv2.imshow(\"img\",img)\n",
    "cv2.waitKey(0)\n",
    "cv2.destroyAllWindows()\n"
   ]
  },
  {
   "cell_type": "code",
   "execution_count": 5,
   "metadata": {},
   "outputs": [
    {
     "ename": "error",
     "evalue": "OpenCV(4.10.0) :-1: error: (-5:Bad argument) in function 'cvtColor'\n> Overload resolution failed:\n>  - src is not a numpy array, neither a scalar\n>  - Expected Ptr<cv::UMat> for argument 'src'\n",
     "output_type": "error",
     "traceback": [
      "\u001b[1;31m---------------------------------------------------------------------------\u001b[0m",
      "\u001b[1;31merror\u001b[0m                                     Traceback (most recent call last)",
      "Cell \u001b[1;32mIn[5], line 4\u001b[0m\n\u001b[0;32m      2\u001b[0m face_cascade \u001b[38;5;241m=\u001b[39m cv2\u001b[38;5;241m.\u001b[39mCascadeClassifier(\u001b[38;5;124m\"\u001b[39m\u001b[38;5;124mcascade/haarcascade_frontalface_default.xml\u001b[39m\u001b[38;5;124m\"\u001b[39m)\n\u001b[0;32m      3\u001b[0m \u001b[38;5;66;03m# print(cap.isOpened())\u001b[39;00m\n\u001b[1;32m----> 4\u001b[0m gray \u001b[38;5;241m=\u001b[39m \u001b[43mcv2\u001b[49m\u001b[38;5;241;43m.\u001b[39;49m\u001b[43mcvtColor\u001b[49m\u001b[43m(\u001b[49m\u001b[43mcap\u001b[49m\u001b[43m,\u001b[49m\u001b[43mcv2\u001b[49m\u001b[38;5;241;43m.\u001b[39;49m\u001b[43mCOLOR_BGR2GRAY\u001b[49m\u001b[43m)\u001b[49m\n\u001b[0;32m      5\u001b[0m faces \u001b[38;5;241m=\u001b[39m face_cascade\u001b[38;5;241m.\u001b[39mdetectMultiScale(\n\u001b[0;32m      6\u001b[0m     gray,scaleFactor\u001b[38;5;241m=\u001b[39m \u001b[38;5;241m1.1\u001b[39m,minNeighbors\u001b[38;5;241m=\u001b[39m\u001b[38;5;241m10\u001b[39m,minSize\u001b[38;5;241m=\u001b[39m(\u001b[38;5;241m20\u001b[39m,\u001b[38;5;241m20\u001b[39m)\n\u001b[0;32m      7\u001b[0m )\n\u001b[0;32m      8\u001b[0m \u001b[38;5;28;01mif\u001b[39;00m \u001b[38;5;129;01mnot\u001b[39;00m cap\u001b[38;5;241m.\u001b[39misOpened():\n",
      "\u001b[1;31merror\u001b[0m: OpenCV(4.10.0) :-1: error: (-5:Bad argument) in function 'cvtColor'\n> Overload resolution failed:\n>  - src is not a numpy array, neither a scalar\n>  - Expected Ptr<cv::UMat> for argument 'src'\n"
     ]
    }
   ],
   "source": [
    "cap = cv2.VideoCapture(0)\n",
    "face_cascade = cv2.CascadeClassifier(\"cascade/haarcascade_frontalface_default.xml\")\n",
    "# print(cap.isOpened())\n",
    "gray = cv2.cvtColor(cap,cv2.COLOR_BGR2GRAY)\n",
    "faces = face_cascade.detectMultiScale(\n",
    "    gray,scaleFactor= 1.1,minNeighbors=10,minSize=(20,20)\n",
    ")\n",
    "if not cap.isOpened():\n",
    "    exit()\n",
    "\n",
    "while True:\n",
    "    ret, frame = cap.read()\n",
    "    if len(faces):\n",
    "        for face in faces:\n",
    "            x,y,width,heigth = face\n",
    "            cv2.rectangle(frame,(x,y),(x+width,y+heigth),(0,255,0),4)\n",
    "    if not ret:\n",
    "        break\n",
    "    cv2.imshow(\"Camera\",frame)\n",
    "    # if cv2.waitKey(1) != -1 # \n",
    "    if cv2.waitKey(5) == ord(\"q\"):\n",
    "        cv2.imwrite(\"output/cp.jpg\",frame)\n",
    "        break\n",
    "\n",
    "cap.release()\n",
    "cv2.destroyAllWindows()"
   ]
  }
 ],
 "metadata": {
  "kernelspec": {
   "display_name": "my_cv",
   "language": "python",
   "name": "python3"
  },
  "language_info": {
   "codemirror_mode": {
    "name": "ipython",
    "version": 3
   },
   "file_extension": ".py",
   "mimetype": "text/x-python",
   "name": "python",
   "nbconvert_exporter": "python",
   "pygments_lexer": "ipython3",
   "version": "3.13.1"
  }
 },
 "nbformat": 4,
 "nbformat_minor": 2
}
