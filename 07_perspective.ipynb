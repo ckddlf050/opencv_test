{
 "cells": [
  {
   "cell_type": "markdown",
   "metadata": {},
   "source": [
    "## 07 원근 변환"
   ]
  },
  {
   "cell_type": "code",
   "execution_count": 2,
   "metadata": {},
   "outputs": [],
   "source": [
    "import cv2\n",
    "import numpy as np\n",
    "\n",
    "CARD = \"images/card.jpg\""
   ]
  },
  {
   "cell_type": "code",
   "execution_count": 5,
   "metadata": {},
   "outputs": [],
   "source": [
    "img =cv2.imread(CARD)\n",
    "\n",
    "width,height = 600,400\n",
    "#변경할 지점 선택 :시계방향\n",
    "src = np.array([[54,261],[981,128],[1213,560],[194,735]],dtype=np.float32)\n",
    "\n",
    "#결과물 출력할 형태 :시계\n",
    "dst = np.array([[0,0],[width,0],[width,height],[0,height]],dtype=np.float32)\n",
    "\n",
    "#원근을 변형하기 위한 matrix생성\n",
    "mat = cv2.getPerspectiveTransform(src,dst)\n",
    "\n",
    "#img를 mat에 의한 변환\n",
    "result = cv2.warpPerspective(img,mat,(width,height))\n",
    "\n",
    "cv2.imshow(\"original\",img)\n",
    "cv2.imshow(\"perspective\",result)\n",
    "cv2.waitKey(0)\n",
    "cv2.destroyAllWindows()"
   ]
  },
  {
   "cell_type": "code",
   "execution_count": 16,
   "metadata": {},
   "outputs": [],
   "source": [
    "img = cv2.imread(\"images/wine.jpg\")\n",
    "\n",
    "width,height = 600, 500\n",
    "\n",
    "src = np.array([[271,72],[483,131],[355,549],[173,504]],dtype=np.float32)\n",
    "dst = np.array([[0,0],[width,0],[width,height],[0,height]],dtype=np.float32)\n",
    "\n",
    "#원근을 변형하기 위한 matrix생성\n",
    "mat = cv2.getPerspectiveTransform(src,dst)\n",
    "\n",
    "#img를 mat에 의한 변환\n",
    "result = cv2.warpPerspective(img,mat,(width,height))\n",
    "\n",
    "cv2.imshow(\"original\",img)\n",
    "cv2.imshow(\"perspective\",result)\n",
    "cv2.waitKey(0)\n",
    "cv2.destroyAllWindows()"
   ]
  }
 ],
 "metadata": {
  "kernelspec": {
   "display_name": "my_cv",
   "language": "python",
   "name": "python3"
  },
  "language_info": {
   "codemirror_mode": {
    "name": "ipython",
    "version": 3
   },
   "file_extension": ".py",
   "mimetype": "text/x-python",
   "name": "python",
   "nbconvert_exporter": "python",
   "pygments_lexer": "ipython3",
   "version": "3.13.1"
  }
 },
 "nbformat": 4,
 "nbformat_minor": 2
}
