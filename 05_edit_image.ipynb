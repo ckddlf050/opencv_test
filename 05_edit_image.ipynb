{
 "cells": [
  {
   "cell_type": "markdown",
   "metadata": {},
   "source": [
    "## 05 이미지 조정"
   ]
  },
  {
   "cell_type": "code",
   "execution_count": 6,
   "metadata": {},
   "outputs": [],
   "source": [
    "import cv2\n",
    "import numpy as np"
   ]
  },
  {
   "cell_type": "code",
   "execution_count": 2,
   "metadata": {},
   "outputs": [],
   "source": [
    "CAT_PATH = \"images/cat.jpg\"\n"
   ]
  },
  {
   "cell_type": "markdown",
   "metadata": {},
   "source": [
    "### 5-1 이미지 복사"
   ]
  },
  {
   "cell_type": "code",
   "execution_count": null,
   "metadata": {},
   "outputs": [],
   "source": [
    "img = cv2.imread(CAT_PATH)\n",
    "shallow_copy = img\n",
    "deep_copy = img.copy()\n",
    "cv2.cvtColor(shallow_copy,cv2.COLOR_BAYER_BGGR2GRAY)\n",
    "\n",
    "cv2.imshow(\"original\",img)\n",
    "cv2.imshow(\"shallow\",shallow_copy)\n",
    "\n",
    "cv2.waitKey(0)\n",
    "cv2.destroyAllWindows()"
   ]
  },
  {
   "cell_type": "markdown",
   "metadata": {},
   "source": [
    "### 5-2 리사이즈"
   ]
  },
  {
   "cell_type": "code",
   "execution_count": 15,
   "metadata": {},
   "outputs": [],
   "source": [
    "img = cv2.imread(CAT_PATH)\n",
    "img.shape\n",
    "\n",
    "#고정크기를 입력해서 조정\n",
    "# dst = cv2.resize(img,(1280,640))\n",
    "#비율로 조정\n",
    "dst = cv2.resize(img,None,fx=0.5,fy=0.5)\n",
    "cubic = cv2.resize(img,None,fx=0.5,fy=0.5,interpolation=cv2.INTER_CUBIC)\n",
    "\n",
    "cv2.imshow(\"resize\",dst)\n",
    "cv2.imshow(\"Cubic\",cubic)\n",
    "cv2.waitKey(0)\n",
    "cv2.destroyAllWindows()"
   ]
  },
  {
   "cell_type": "code",
   "execution_count": 1,
   "metadata": {},
   "outputs": [],
   "source": [
    "CAT_VIDEO_PATH = \"videos/cat.mp4\""
   ]
  },
  {
   "cell_type": "code",
   "execution_count": 10,
   "metadata": {},
   "outputs": [],
   "source": [
    "cap = cv2.VideoCapture(CAT_VIDEO_PATH)\n",
    "\n",
    "\n",
    "while cap.isOpened():\n",
    "    ret, frame = cap.read()\n",
    "    if not ret:\n",
    "        break\n",
    "\n",
    "    cv2.resize(frame,None,fx=1.5,fy=1.5)\n",
    "    cv2. imshow(\"video\",frame)\n",
    "\n",
    "    if cv2.waitKey(1) == ord(\"q\"):\n",
    "        break\n",
    "\n",
    "cap.release()\n",
    "cv2.destroyAllWindows()"
   ]
  },
  {
   "cell_type": "code",
   "execution_count": null,
   "metadata": {},
   "outputs": [],
   "source": [
    "img = cv2.imread(CAT_PATH)\n",
    "\n",
    "size_up = cv2.pyrUp(img)\n",
    "size_down = cv2.pyrDown(img)\n",
    "\n",
    "cv2.imshow(\"up\",size_up)\n",
    "cv2.imshow(\"down\",size_down)\n",
    "cv2.waitKey(0)\n",
    "cv2.destroyAllWindows()\n"
   ]
  },
  {
   "cell_type": "markdown",
   "metadata": {},
   "source": [
    "### 5-3 이미지 자르기"
   ]
  },
  {
   "cell_type": "code",
   "execution_count": 22,
   "metadata": {},
   "outputs": [
    {
     "ename": "ValueError",
     "evalue": "could not broadcast input array from shape (300,300,3) into shape (0,300,3)",
     "output_type": "error",
     "traceback": [
      "\u001b[1;31m---------------------------------------------------------------------------\u001b[0m",
      "\u001b[1;31mValueError\u001b[0m                                Traceback (most recent call last)",
      "Cell \u001b[1;32mIn[22], line 4\u001b[0m\n\u001b[0;32m      1\u001b[0m img \u001b[38;5;241m=\u001b[39m cv2\u001b[38;5;241m.\u001b[39mimread(CAT_PATH)\n\u001b[0;32m      3\u001b[0m cropped \u001b[38;5;241m=\u001b[39mimg[\u001b[38;5;241m100\u001b[39m:\u001b[38;5;241m400\u001b[39m,\u001b[38;5;241m150\u001b[39m:\u001b[38;5;241m450\u001b[39m]\n\u001b[1;32m----> 4\u001b[0m \u001b[43mimg\u001b[49m\u001b[43m[\u001b[49m\u001b[38;5;241;43m300\u001b[39;49m\u001b[43m:\u001b[49m\u001b[38;5;241;43m200\u001b[39;49m\u001b[43m,\u001b[49m\u001b[38;5;241;43m300\u001b[39;49m\u001b[43m:\u001b[49m\u001b[38;5;241;43m600\u001b[39;49m\u001b[43m]\u001b[49m \u001b[38;5;241m=\u001b[39m cropped\n\u001b[0;32m      6\u001b[0m cv2\u001b[38;5;241m.\u001b[39mimshow(\u001b[38;5;124m\"\u001b[39m\u001b[38;5;124mCAT\u001b[39m\u001b[38;5;124m\"\u001b[39m,img)\n\u001b[0;32m      7\u001b[0m \u001b[38;5;66;03m# cv2.imshow(\"cropped\",cropped)\u001b[39;00m\n",
      "\u001b[1;31mValueError\u001b[0m: could not broadcast input array from shape (300,300,3) into shape (0,300,3)"
     ]
    }
   ],
   "source": [
    "img = cv2.imread(CAT_PATH)\n",
    "\n",
    "cropped =img[100:400,150:450]\n",
    "img[300:200,300:600] = cropped\n",
    "\n",
    "cv2.imshow(\"CAT\",img)\n",
    "# cv2.imshow(\"cropped\",cropped)\n",
    "\n",
    "cv2.waitKey(0)\n",
    "cv2.destroyAllWindows()"
   ]
  },
  {
   "cell_type": "markdown",
   "metadata": {},
   "source": [
    "### 5-4 이미지 대칭\n",
    "\n",
    "- 'flipcode > 0':좌우반전 (y축 반전)\n",
    "- 'flipcode == 0 ':상하반전 (x축 반전)\n",
    "- 'flipcode < 0':상하좌우 반전"
   ]
  },
  {
   "cell_type": "code",
   "execution_count": 26,
   "metadata": {},
   "outputs": [],
   "source": [
    "img = cv2.imread(CAT_PATH)\n",
    "\n",
    "dst_1 = cv2.flip(img,0)\n",
    "\n",
    "cv2.imshow(\"img\",img)\n",
    "cv2.imshow(\"det_1\",dst_1)\n",
    "\n",
    "cv2.waitKey(0)\n",
    "cv2.destroyAllWindows()"
   ]
  },
  {
   "cell_type": "code",
   "execution_count": 7,
   "metadata": {},
   "outputs": [],
   "source": [
    "IMG_k = \"images/img1.jpg\""
   ]
  },
  {
   "cell_type": "code",
   "execution_count": 12,
   "metadata": {},
   "outputs": [
    {
     "ename": "ValueError",
     "evalue": "could not broadcast input array from shape (424,362,3) into shape (3,)",
     "output_type": "error",
     "traceback": [
      "\u001b[1;31m---------------------------------------------------------------------------\u001b[0m",
      "\u001b[1;31mValueError\u001b[0m                                Traceback (most recent call last)",
      "Cell \u001b[1;32mIn[12], line 8\u001b[0m\n\u001b[0;32m      5\u001b[0m iheight,iwidth,ichannel \u001b[38;5;241m=\u001b[39mimg\u001b[38;5;241m.\u001b[39mshape\n\u001b[0;32m      6\u001b[0m dheight,dwidth,dchannel \u001b[38;5;241m=\u001b[39mdst\u001b[38;5;241m.\u001b[39mshape\n\u001b[1;32m----> 8\u001b[0m \u001b[43mimg\u001b[49m\u001b[43m[\u001b[49m\u001b[43miheight\u001b[49m\u001b[38;5;241;43m-\u001b[39;49m\u001b[43mdheight\u001b[49m\u001b[43m,\u001b[49m\u001b[43miwidth\u001b[49m\u001b[38;5;241;43m-\u001b[39;49m\u001b[43mdwidth\u001b[49m\u001b[43m]\u001b[49m \u001b[38;5;241m=\u001b[39mdst\n\u001b[0;32m     10\u001b[0m \u001b[38;5;66;03m# cv2.imshow(\"1\",dst)\u001b[39;00m\n\u001b[0;32m     11\u001b[0m \u001b[38;5;66;03m# cv2.imshow(\"2\",flip_kk)\u001b[39;00m\n\u001b[0;32m     12\u001b[0m cv2\u001b[38;5;241m.\u001b[39mimshow(\u001b[38;5;124m\"\u001b[39m\u001b[38;5;124mimg\u001b[39m\u001b[38;5;124m\"\u001b[39m,img)\n",
      "\u001b[1;31mValueError\u001b[0m: could not broadcast input array from shape (424,362,3) into shape (3,)"
     ]
    }
   ],
   "source": [
    "img = cv2.imread(IMG_k)\n",
    "dst =cv2.resize(img,None,fx=0.5,fy=0.5) \n",
    "dst =cv2.flip(dst,1)\n",
    "\n",
    "iheight,iwidth,ichannel =img.shape\n",
    "dheight,dwidth,dchannel =dst.shape\n",
    "\n",
    "img[iheight-dheight,iwidth-dwidth] = dst\n",
    "\n",
    "# cv2.imshow(\"1\",dst)\n",
    "# cv2.imshow(\"2\",flip_kk)\n",
    "cv2.imshow(\"img\",img)\n",
    "cv2.waitKey(0)\n",
    "cv2.destroyAllWindows()\n"
   ]
  },
  {
   "cell_type": "markdown",
   "metadata": {},
   "source": [
    "### 실습 3"
   ]
  },
  {
   "cell_type": "code",
   "execution_count": null,
   "metadata": {},
   "outputs": [
    {
     "ename": "error",
     "evalue": "OpenCV(4.10.0) :-1: error: (-5:Bad argument) in function 'merge'\n> Overload resolution failed:\n>  - merge() missing required argument 'mv' (pos 1)\n>  - merge() missing required argument 'mv' (pos 1)\n",
     "output_type": "error",
     "traceback": [
      "\u001b[1;31m---------------------------------------------------------------------------\u001b[0m",
      "\u001b[1;31merror\u001b[0m                                     Traceback (most recent call last)",
      "Cell \u001b[1;32mIn[16], line 4\u001b[0m\n\u001b[0;32m      1\u001b[0m img \u001b[38;5;241m=\u001b[39m cv2\u001b[38;5;241m.\u001b[39mimread(IMG_k)\n\u001b[0;32m      3\u001b[0m blue,green,red \u001b[38;5;241m=\u001b[39m cv2\u001b[38;5;241m.\u001b[39msplit(img)\n\u001b[1;32m----> 4\u001b[0m merged_image \u001b[38;5;241m=\u001b[39m\u001b[43mcv2\u001b[49m\u001b[38;5;241;43m.\u001b[39;49m\u001b[43mmerge\u001b[49m\u001b[43m(\u001b[49m\u001b[43m)\u001b[49m\n\u001b[0;32m      6\u001b[0m \u001b[38;5;66;03m# cv2.imshow(\"blue\",blue)\u001b[39;00m\n\u001b[0;32m      7\u001b[0m \u001b[38;5;66;03m# cv2.imshow(\"green\",green)\u001b[39;00m\n\u001b[0;32m      8\u001b[0m \u001b[38;5;66;03m# cv2.imshow(\"red\",red)\u001b[39;00m\n\u001b[0;32m     10\u001b[0m cv2\u001b[38;5;241m.\u001b[39mimshow(\u001b[38;5;124m\"\u001b[39m\u001b[38;5;124mmerge\u001b[39m\u001b[38;5;124m\"\u001b[39m,merged_image)\n",
      "\u001b[1;31merror\u001b[0m: OpenCV(4.10.0) :-1: error: (-5:Bad argument) in function 'merge'\n> Overload resolution failed:\n>  - merge() missing required argument 'mv' (pos 1)\n>  - merge() missing required argument 'mv' (pos 1)\n"
     ]
    }
   ],
   "source": [
    "img = cv2.imread(IMG_k)\n",
    "\n",
    "blue,green,red = cv2.split(img)\n",
    "merged_image =cv2.merge()\n",
    "\n",
    "cv2.imshow(\"blue\",blue)\n",
    "cv2.imshow(\"green\",green)\n",
    "cv2.imshow(\"red\",red)\n",
    "\n",
    "\n",
    "cv2.waitKey(0)\n",
    "cv2.destroyAllWindows()"
   ]
  },
  {
   "cell_type": "markdown",
   "metadata": {},
   "source": [
    "### 5-4 이미지 색상 변경"
   ]
  },
  {
   "cell_type": "code",
   "execution_count": 19,
   "metadata": {},
   "outputs": [
    {
     "data": {
      "text/plain": [
       "(848, 723)"
      ]
     },
     "execution_count": 19,
     "metadata": {},
     "output_type": "execute_result"
    }
   ],
   "source": [
    "img = cv2.imread(IMG_k)\n",
    "gray = cv2.cvtColor(img,cv2.COLOR_BGR2GRAY)\n",
    "rgb = cv2.cvtColor(img,cv2.COLOR_BGR2RGB)\n",
    "\n",
    "gray.shape\n",
    "# cv2.imshow(\"gray\",gray)\n",
    "# cv2.imshow(\"rgb\",rgb)\n",
    "\n",
    "# cv2.waitKey(0)\n",
    "# cv2.destroyAllWindows()"
   ]
  },
  {
   "cell_type": "markdown",
   "metadata": {},
   "source": [
    "### 실습4 흑백 이미지 반전"
   ]
  },
  {
   "cell_type": "code",
   "execution_count": 21,
   "metadata": {},
   "outputs": [],
   "source": [
    "img = cv2.imread(IMG_k,cv2.IMREAD_GRAYSCALE)\n",
    "\n",
    "inverted = 255-img\n",
    "\n",
    "cv2.imshow(\"invert\",inverted)\n",
    "cv2.imshow(\"img\",img)\n",
    "cv2.waitKey(0)\n",
    "cv2.destroyAllWindows()"
   ]
  },
  {
   "cell_type": "markdown",
   "metadata": {},
   "source": [
    "### 5-5 이미지 흐리기(GaussianBlur)"
   ]
  },
  {
   "cell_type": "code",
   "execution_count": 22,
   "metadata": {},
   "outputs": [],
   "source": [
    "img = cv2.imread(IMG_k)\n",
    "\n",
    "#커널을 사용하는 방식\n",
    "#(3,3) (5,5) (7,7)\n",
    "kernel_3 = cv2.GaussianBlur(img,(3,3),0)\n",
    "kernel_5 = cv2.GaussianBlur(img,(5,5),0)\n",
    "kernel_7 = cv2.GaussianBlur(img,(7,7),0)\n",
    "\n",
    "cv2.imshow(\"k3\",kernel_3)\n",
    "cv2.imshow(\"k5\",kernel_5)\n",
    "cv2.imshow(\"k7\",kernel_7)\n",
    "\n",
    "cv2.waitKey(0)\n",
    "cv2.destroyAllWindows()\n"
   ]
  },
  {
   "cell_type": "code",
   "execution_count": 23,
   "metadata": {},
   "outputs": [],
   "source": [
    "img = cv2.imread(IMG_k)\n",
    "\n",
    "#표준편차를 사용하는 방식\n",
    "\n",
    "sigma_3 = cv2.GaussianBlur(img,(0,0),1)\n",
    "sigma_5 = cv2.GaussianBlur(img,(0,0),2)\n",
    "sigma_7 = cv2.GaussianBlur(img,(0,0),3)\n",
    "\n",
    "cv2.imshow(\"k3\",sigma_3)\n",
    "cv2.imshow(\"k5\",sigma_5)\n",
    "cv2.imshow(\"k7\",sigma_7)\n",
    "\n",
    "cv2.waitKey(0)\n",
    "cv2.destroyAllWindows()\n"
   ]
  },
  {
   "cell_type": "markdown",
   "metadata": {},
   "source": [
    "### 5-6 이미지 회전\n",
    "- rotatecode\n",
    "    - cv2.ROTATE_90_CLOCKWISE :시계방향 90도 회전\n",
    "    - cv2.ROTATE_180_CLOCKWISE :시계방향 180도 회전\n",
    "    - cv2.ROTATE_90_COUNTERCLOCKWISE :반시계방향 90도 회전"
   ]
  },
  {
   "cell_type": "code",
   "execution_count": 28,
   "metadata": {},
   "outputs": [],
   "source": [
    "img = cv2.imread(IMG_k)\n",
    "\n",
    "dst_90 = cv2.rotate(img,cv2.ROTATE_90_CLOCKWISE)\n",
    "dst_180 = cv2.rotate(img,cv2.ROTATE_180)\n",
    "dst_90_COUNTER = cv2.rotate(img,cv2.ROTATE_90_COUNTERCLOCKWISE)\n",
    "\n",
    "cv2.imshow(\"90\",dst_90)\n",
    "cv2.imshow(\"180\",dst_180)\n",
    "cv2.imshow(\"C90\",dst_90_COUNTER)\n",
    "\n",
    "cv2.waitKey(0)\n",
    "cv2.destroyAllWindows()"
   ]
  },
  {
   "cell_type": "code",
   "execution_count": 32,
   "metadata": {},
   "outputs": [],
   "source": [
    "# affine 변환 사용\n",
    "img = cv2.imread(IMG_k)\n",
    "\n",
    "center = (img.shape[1]/2,img.shape[0]/2)\n",
    "affine = cv2.getRotationMatrix2D(center,-45,0.5)\n",
    "dst = cv2.warpAffine(img,affine,(img.shape[1],img.shape[0]))\n",
    "\n",
    "cv2.imshow(\"rotate\",dst)\n",
    "cv2.imshow(\"original\",img)\n",
    "cv2.waitKey(0)\n",
    "cv2.destroyAllWindows()"
   ]
  },
  {
   "cell_type": "code",
   "execution_count": null,
   "metadata": {},
   "outputs": [],
   "source": [
    "import math\n",
    "\n",
    "img = cv2.imread(CAT_PATH)\n",
    "\n",
    "a"
   ]
  }
 ],
 "metadata": {
  "kernelspec": {
   "display_name": "my_cv",
   "language": "python",
   "name": "python3"
  },
  "language_info": {
   "codemirror_mode": {
    "name": "ipython",
    "version": 3
   },
   "file_extension": ".py",
   "mimetype": "text/x-python",
   "name": "python",
   "nbconvert_exporter": "python",
   "pygments_lexer": "ipython3",
   "version": "3.13.1"
  }
 },
 "nbformat": 4,
 "nbformat_minor": 2
}
